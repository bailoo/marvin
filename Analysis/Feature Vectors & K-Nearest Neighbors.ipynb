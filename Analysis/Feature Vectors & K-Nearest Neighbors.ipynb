{
 "cells": [
  {
   "cell_type": "markdown",
   "metadata": {
    "heading_collapsed": true
   },
   "source": [
    "## Libraries"
   ]
  },
  {
   "cell_type": "code",
   "execution_count": 1,
   "metadata": {
    "hidden": true
   },
   "outputs": [],
   "source": [
    "import pandas as pd\n",
    "import numpy as np\n"
   ]
  },
  {
   "cell_type": "code",
   "execution_count": 65,
   "metadata": {
    "collapsed": true,
    "hidden": true
   },
   "outputs": [],
   "source": [
    "from sklearn.preprocessing import StandardScaler\n",
    "from sklearn.neighbors import NearestNeighbors"
   ]
  },
  {
   "cell_type": "code",
   "execution_count": 3,
   "metadata": {
    "hidden": true
   },
   "outputs": [
    {
     "name": "stderr",
     "output_type": "stream",
     "text": [
      "C:\\Users\\yash sharma\\Anaconda3\\lib\\site-packages\\h5py\\__init__.py:36: FutureWarning: Conversion of the second argument of issubdtype from `float` to `np.floating` is deprecated. In future, it will be treated as `np.float64 == np.dtype(float).type`.\n",
      "  from ._conv import register_converters as _register_converters\n",
      "Using TensorFlow backend.\n"
     ]
    }
   ],
   "source": [
    "import keras.backend as K\n",
    "from keras.layers import Dense, Dropout\n",
    "from keras.models import Model, Sequential\n",
    "from keras.utils.np_utils import to_categorical"
   ]
  },
  {
   "cell_type": "markdown",
   "metadata": {
    "heading_collapsed": true
   },
   "source": [
    "## Dataset"
   ]
  },
  {
   "cell_type": "code",
   "execution_count": 4,
   "metadata": {
    "hidden": true
   },
   "outputs": [
    {
     "data": {
      "text/html": [
       "<div>\n",
       "<style scoped>\n",
       "    .dataframe tbody tr th:only-of-type {\n",
       "        vertical-align: middle;\n",
       "    }\n",
       "\n",
       "    .dataframe tbody tr th {\n",
       "        vertical-align: top;\n",
       "    }\n",
       "\n",
       "    .dataframe thead th {\n",
       "        text-align: right;\n",
       "    }\n",
       "</style>\n",
       "<table border=\"1\" class=\"dataframe\">\n",
       "  <thead>\n",
       "    <tr style=\"text-align: right;\">\n",
       "      <th></th>\n",
       "      <th>Deal_ID</th>\n",
       "      <th>Title</th>\n",
       "      <th>Category</th>\n",
       "      <th>Event</th>\n",
       "      <th>Location</th>\n",
       "      <th>Budget</th>\n",
       "      <th>Gathering</th>\n",
       "      <th>Event_Date</th>\n",
       "      <th>Deal_Date</th>\n",
       "      <th>Artists_Pitched</th>\n",
       "      <th>Artists_Requested</th>\n",
       "      <th>Artists_Requested_URL</th>\n",
       "      <th>status</th>\n",
       "      <th>lost_reason</th>\n",
       "      <th>Source</th>\n",
       "    </tr>\n",
       "  </thead>\n",
       "  <tbody>\n",
       "    <tr>\n",
       "      <th>0</th>\n",
       "      <td>9619</td>\n",
       "      <td>Bhupendra shah deal</td>\n",
       "      <td>7.0</td>\n",
       "      <td>4.0</td>\n",
       "      <td>Jaipur, Rajasthan, India</td>\n",
       "      <td>25000.0</td>\n",
       "      <td>350.0</td>\n",
       "      <td>18-02-2018 00:00</td>\n",
       "      <td>02-01-2018 04:09</td>\n",
       "      <td>, anurag-dixit, frequency-project, peprico, ku...</td>\n",
       "      <td>Karawan</td>\n",
       "      <td>karawan</td>\n",
       "      <td>lost</td>\n",
       "      <td>Old CRM</td>\n",
       "      <td>31.0</td>\n",
       "    </tr>\n",
       "    <tr>\n",
       "      <th>1</th>\n",
       "      <td>9275</td>\n",
       "      <td>Mohamed majid deal</td>\n",
       "      <td>3.0</td>\n",
       "      <td>10.0</td>\n",
       "      <td>Nungambakkam, Chennai, Tamil Nadu, India</td>\n",
       "      <td>5000.0</td>\n",
       "      <td>30.0</td>\n",
       "      <td>24-02-2018 00:00</td>\n",
       "      <td>13-02-2018 13:37</td>\n",
       "      <td>, chennai-comedy</td>\n",
       "      <td>Alexander Babu</td>\n",
       "      <td>alexander-babu</td>\n",
       "      <td>lost</td>\n",
       "      <td>Old CRM</td>\n",
       "      <td>31.0</td>\n",
       "    </tr>\n",
       "    <tr>\n",
       "      <th>2</th>\n",
       "      <td>1489</td>\n",
       "      <td>Sarthak Shah</td>\n",
       "      <td>3.0</td>\n",
       "      <td>2.0</td>\n",
       "      <td>Gandhinagar, Gujarat, India</td>\n",
       "      <td>250000.0</td>\n",
       "      <td>500.0</td>\n",
       "      <td>06-02-2018 00:00</td>\n",
       "      <td>03-09-2018 03:02</td>\n",
       "      <td>, gaurav-kapoor, jagdish-chaturvedi, rajneesh-...</td>\n",
       "      <td>Abhishek Upmanyu</td>\n",
       "      <td>abhishek-upmanyu</td>\n",
       "      <td>open</td>\n",
       "      <td>NaN</td>\n",
       "      <td>NaN</td>\n",
       "    </tr>\n",
       "    <tr>\n",
       "      <th>3</th>\n",
       "      <td>9713</td>\n",
       "      <td>Ayush Thomas deal</td>\n",
       "      <td>12.0</td>\n",
       "      <td>1.0</td>\n",
       "      <td>Dwaraka Marg, Block E, Bhagwati Garden, Nawada...</td>\n",
       "      <td>1000000.0</td>\n",
       "      <td>2000.0</td>\n",
       "      <td>24-02-2018 00:00</td>\n",
       "      <td>29-01-2018 06:27</td>\n",
       "      <td>, guru-randhawa</td>\n",
       "      <td>Guru Randhawa</td>\n",
       "      <td>guru-randhawa</td>\n",
       "      <td>lost</td>\n",
       "      <td>Old CRM</td>\n",
       "      <td>31.0</td>\n",
       "    </tr>\n",
       "    <tr>\n",
       "      <th>4</th>\n",
       "      <td>4435</td>\n",
       "      <td>ranjan tyagi deal</td>\n",
       "      <td>1.0</td>\n",
       "      <td>4.0</td>\n",
       "      <td>Ranchi, Jharkhand, India</td>\n",
       "      <td>75000.0</td>\n",
       "      <td>200.0</td>\n",
       "      <td>06-02-2018 00:00</td>\n",
       "      <td>23-04-2018 13:21</td>\n",
       "      <td>, mini-dewan</td>\n",
       "      <td>NaN</td>\n",
       "      <td>NaN</td>\n",
       "      <td>lost</td>\n",
       "      <td>No Response</td>\n",
       "      <td>32.0</td>\n",
       "    </tr>\n",
       "  </tbody>\n",
       "</table>\n",
       "</div>"
      ],
      "text/plain": [
       "   Deal_ID                Title  Category  Event  \\\n",
       "0     9619  Bhupendra shah deal       7.0    4.0   \n",
       "1     9275   Mohamed majid deal       3.0   10.0   \n",
       "2     1489         Sarthak Shah       3.0    2.0   \n",
       "3     9713    Ayush Thomas deal      12.0    1.0   \n",
       "4     4435    ranjan tyagi deal       1.0    4.0   \n",
       "\n",
       "                                            Location     Budget  Gathering  \\\n",
       "0                           Jaipur, Rajasthan, India    25000.0      350.0   \n",
       "1           Nungambakkam, Chennai, Tamil Nadu, India     5000.0       30.0   \n",
       "2                        Gandhinagar, Gujarat, India   250000.0      500.0   \n",
       "3  Dwaraka Marg, Block E, Bhagwati Garden, Nawada...  1000000.0     2000.0   \n",
       "4                           Ranchi, Jharkhand, India    75000.0      200.0   \n",
       "\n",
       "         Event_Date         Deal_Date  \\\n",
       "0  18-02-2018 00:00  02-01-2018 04:09   \n",
       "1  24-02-2018 00:00  13-02-2018 13:37   \n",
       "2  06-02-2018 00:00  03-09-2018 03:02   \n",
       "3  24-02-2018 00:00  29-01-2018 06:27   \n",
       "4  06-02-2018 00:00  23-04-2018 13:21   \n",
       "\n",
       "                                     Artists_Pitched Artists_Requested  \\\n",
       "0  , anurag-dixit, frequency-project, peprico, ku...           Karawan   \n",
       "1                                   , chennai-comedy    Alexander Babu   \n",
       "2  , gaurav-kapoor, jagdish-chaturvedi, rajneesh-...  Abhishek Upmanyu   \n",
       "3                                    , guru-randhawa     Guru Randhawa   \n",
       "4                                       , mini-dewan               NaN   \n",
       "\n",
       "  Artists_Requested_URL status  lost_reason  Source  \n",
       "0               karawan   lost      Old CRM    31.0  \n",
       "1        alexander-babu   lost      Old CRM    31.0  \n",
       "2      abhishek-upmanyu   open          NaN     NaN  \n",
       "3         guru-randhawa   lost      Old CRM    31.0  \n",
       "4                   NaN   lost  No Response    32.0  "
      ]
     },
     "execution_count": 4,
     "metadata": {},
     "output_type": "execute_result"
    }
   ],
   "source": [
    "# Load the DataSet into memory using pandas read_csv() function\n",
    "df = pd.read_csv('CSV Data/updated-deal-details-infomation.csv')\n",
    "\n",
    "# head() to display TOP 5 rows\n",
    "df.head()"
   ]
  },
  {
   "cell_type": "code",
   "execution_count": 6,
   "metadata": {
    "hidden": true
   },
   "outputs": [],
   "source": [
    "# Convert Event_Date to pandas datetime & fetch event month\n",
    "df['Event_Date'] = pd.to_datetime(df['Event_Date'], errors = 'coerce')\n",
    "df['Event_Month'] = df['Event_Date'].dt.month"
   ]
  },
  {
   "cell_type": "code",
   "execution_count": 7,
   "metadata": {
    "collapsed": true,
    "hidden": true
   },
   "outputs": [],
   "source": [
    "# Subset DataFrame for Singers, Comedians & Live Band\n",
    "subset_df = df[(df.Category == 12) | (df.Category == 3) | (df.Category == 7)].copy()"
   ]
  },
  {
   "cell_type": "code",
   "execution_count": 8,
   "metadata": {
    "hidden": true
   },
   "outputs": [
    {
     "data": {
      "text/html": [
       "<div>\n",
       "<style scoped>\n",
       "    .dataframe tbody tr th:only-of-type {\n",
       "        vertical-align: middle;\n",
       "    }\n",
       "\n",
       "    .dataframe tbody tr th {\n",
       "        vertical-align: top;\n",
       "    }\n",
       "\n",
       "    .dataframe thead th {\n",
       "        text-align: right;\n",
       "    }\n",
       "</style>\n",
       "<table border=\"1\" class=\"dataframe\">\n",
       "  <thead>\n",
       "    <tr style=\"text-align: right;\">\n",
       "      <th></th>\n",
       "      <th>Deal_ID</th>\n",
       "      <th>Title</th>\n",
       "      <th>Category</th>\n",
       "      <th>Event</th>\n",
       "      <th>Location</th>\n",
       "      <th>Budget</th>\n",
       "      <th>Gathering</th>\n",
       "      <th>Event_Date</th>\n",
       "      <th>Deal_Date</th>\n",
       "      <th>Artists_Pitched</th>\n",
       "      <th>Artists_Requested</th>\n",
       "      <th>Artists_Requested_URL</th>\n",
       "      <th>status</th>\n",
       "      <th>lost_reason</th>\n",
       "      <th>Source</th>\n",
       "      <th>Event_Month</th>\n",
       "    </tr>\n",
       "  </thead>\n",
       "  <tbody>\n",
       "    <tr>\n",
       "      <th>0</th>\n",
       "      <td>9619</td>\n",
       "      <td>Bhupendra shah deal</td>\n",
       "      <td>7.0</td>\n",
       "      <td>4.0</td>\n",
       "      <td>Jaipur, Rajasthan, India</td>\n",
       "      <td>25000.0</td>\n",
       "      <td>350.0</td>\n",
       "      <td>2018-02-18</td>\n",
       "      <td>02-01-2018 04:09</td>\n",
       "      <td>, anurag-dixit, frequency-project, peprico, ku...</td>\n",
       "      <td>Karawan</td>\n",
       "      <td>karawan</td>\n",
       "      <td>lost</td>\n",
       "      <td>Old CRM</td>\n",
       "      <td>31.0</td>\n",
       "      <td>2.0</td>\n",
       "    </tr>\n",
       "    <tr>\n",
       "      <th>1</th>\n",
       "      <td>9275</td>\n",
       "      <td>Mohamed majid deal</td>\n",
       "      <td>3.0</td>\n",
       "      <td>10.0</td>\n",
       "      <td>Nungambakkam, Chennai, Tamil Nadu, India</td>\n",
       "      <td>5000.0</td>\n",
       "      <td>30.0</td>\n",
       "      <td>2018-02-24</td>\n",
       "      <td>13-02-2018 13:37</td>\n",
       "      <td>, chennai-comedy</td>\n",
       "      <td>Alexander Babu</td>\n",
       "      <td>alexander-babu</td>\n",
       "      <td>lost</td>\n",
       "      <td>Old CRM</td>\n",
       "      <td>31.0</td>\n",
       "      <td>2.0</td>\n",
       "    </tr>\n",
       "    <tr>\n",
       "      <th>2</th>\n",
       "      <td>1489</td>\n",
       "      <td>Sarthak Shah</td>\n",
       "      <td>3.0</td>\n",
       "      <td>2.0</td>\n",
       "      <td>Gandhinagar, Gujarat, India</td>\n",
       "      <td>250000.0</td>\n",
       "      <td>500.0</td>\n",
       "      <td>2018-06-02</td>\n",
       "      <td>03-09-2018 03:02</td>\n",
       "      <td>, gaurav-kapoor, jagdish-chaturvedi, rajneesh-...</td>\n",
       "      <td>Abhishek Upmanyu</td>\n",
       "      <td>abhishek-upmanyu</td>\n",
       "      <td>open</td>\n",
       "      <td>NaN</td>\n",
       "      <td>NaN</td>\n",
       "      <td>6.0</td>\n",
       "    </tr>\n",
       "    <tr>\n",
       "      <th>3</th>\n",
       "      <td>9713</td>\n",
       "      <td>Ayush Thomas deal</td>\n",
       "      <td>12.0</td>\n",
       "      <td>1.0</td>\n",
       "      <td>Dwaraka Marg, Block E, Bhagwati Garden, Nawada...</td>\n",
       "      <td>1000000.0</td>\n",
       "      <td>2000.0</td>\n",
       "      <td>2018-02-24</td>\n",
       "      <td>29-01-2018 06:27</td>\n",
       "      <td>, guru-randhawa</td>\n",
       "      <td>Guru Randhawa</td>\n",
       "      <td>guru-randhawa</td>\n",
       "      <td>lost</td>\n",
       "      <td>Old CRM</td>\n",
       "      <td>31.0</td>\n",
       "      <td>2.0</td>\n",
       "    </tr>\n",
       "    <tr>\n",
       "      <th>7</th>\n",
       "      <td>16934</td>\n",
       "      <td>Kshitij deal</td>\n",
       "      <td>7.0</td>\n",
       "      <td>1.0</td>\n",
       "      <td>Gurugram, Haryana, India</td>\n",
       "      <td>15000.0</td>\n",
       "      <td>150.0</td>\n",
       "      <td>2016-09-16</td>\n",
       "      <td>09-09-2016 19:09</td>\n",
       "      <td>6ix-mhz-25276, fitoor-the-band, haze, ruhani, ...</td>\n",
       "      <td>Aanch</td>\n",
       "      <td>aanch</td>\n",
       "      <td>lost</td>\n",
       "      <td>Old CRM</td>\n",
       "      <td>31.0</td>\n",
       "      <td>9.0</td>\n",
       "    </tr>\n",
       "  </tbody>\n",
       "</table>\n",
       "</div>"
      ],
      "text/plain": [
       "   Deal_ID                Title  Category  Event  \\\n",
       "0     9619  Bhupendra shah deal       7.0    4.0   \n",
       "1     9275   Mohamed majid deal       3.0   10.0   \n",
       "2     1489         Sarthak Shah       3.0    2.0   \n",
       "3     9713    Ayush Thomas deal      12.0    1.0   \n",
       "7    16934         Kshitij deal       7.0    1.0   \n",
       "\n",
       "                                            Location     Budget  Gathering  \\\n",
       "0                           Jaipur, Rajasthan, India    25000.0      350.0   \n",
       "1           Nungambakkam, Chennai, Tamil Nadu, India     5000.0       30.0   \n",
       "2                        Gandhinagar, Gujarat, India   250000.0      500.0   \n",
       "3  Dwaraka Marg, Block E, Bhagwati Garden, Nawada...  1000000.0     2000.0   \n",
       "7                           Gurugram, Haryana, India    15000.0      150.0   \n",
       "\n",
       "  Event_Date         Deal_Date  \\\n",
       "0 2018-02-18  02-01-2018 04:09   \n",
       "1 2018-02-24  13-02-2018 13:37   \n",
       "2 2018-06-02  03-09-2018 03:02   \n",
       "3 2018-02-24  29-01-2018 06:27   \n",
       "7 2016-09-16  09-09-2016 19:09   \n",
       "\n",
       "                                     Artists_Pitched Artists_Requested  \\\n",
       "0  , anurag-dixit, frequency-project, peprico, ku...           Karawan   \n",
       "1                                   , chennai-comedy    Alexander Babu   \n",
       "2  , gaurav-kapoor, jagdish-chaturvedi, rajneesh-...  Abhishek Upmanyu   \n",
       "3                                    , guru-randhawa     Guru Randhawa   \n",
       "7  6ix-mhz-25276, fitoor-the-band, haze, ruhani, ...             Aanch   \n",
       "\n",
       "  Artists_Requested_URL status lost_reason  Source  Event_Month  \n",
       "0               karawan   lost     Old CRM    31.0          2.0  \n",
       "1        alexander-babu   lost     Old CRM    31.0          2.0  \n",
       "2      abhishek-upmanyu   open         NaN     NaN          6.0  \n",
       "3         guru-randhawa   lost     Old CRM    31.0          2.0  \n",
       "7                 aanch   lost     Old CRM    31.0          9.0  "
      ]
     },
     "execution_count": 8,
     "metadata": {},
     "output_type": "execute_result"
    }
   ],
   "source": [
    "subset_df.head()"
   ]
  },
  {
   "cell_type": "markdown",
   "metadata": {},
   "source": [
    "## Keras Feature Vector Model"
   ]
  },
  {
   "cell_type": "markdown",
   "metadata": {
    "heading_collapsed": true
   },
   "source": [
    "### Helper Functions"
   ]
  },
  {
   "cell_type": "code",
   "execution_count": 9,
   "metadata": {
    "collapsed": true,
    "hidden": true
   },
   "outputs": [],
   "source": [
    "# Initialize the Standard Scaler\n",
    "SS = StandardScaler()\n",
    "\n",
    "# Initialize KNN\n",
    "nbrs = NearestNeighbors(n_neighbors = 5, algorithm = 'ball_tree')"
   ]
  },
  {
   "cell_type": "code",
   "execution_count": 10,
   "metadata": {
    "hidden": true
   },
   "outputs": [],
   "source": [
    "## Helper Function for Keras Models\n",
    "\n",
    "def getModel(output_dim):\n",
    "    K.clear_session()\n",
    "\n",
    "    model = Sequential()\n",
    "    model.add(Dense(16, activation = 'relu', input_shape = (4,)))\n",
    "    model.add(Dense(32, activation = 'relu'))\n",
    "    model.add(Dense(64, activation = 'relu'))\n",
    "    model.add(Dense(128, activation = 'relu'))\n",
    "    model.add(Dense(64, activation = 'relu'))\n",
    "    model.add(Dense(32, activation = 'relu'))\n",
    "    model.add(Dense(output_dim, activation = 'softmax'))\n",
    "\n",
    "    model.compile(loss = 'categorical_crossentropy', optimizer = 'rmsprop', metrics = ['acc'])\n",
    "    \n",
    "    return model\n",
    "\n",
    "def getSubsetModel(tempModel, layer_name):\n",
    "    return Model(inputs = tempModel.input, \n",
    "                 outputs = tempModel.get_layer(layer_name).output)"
   ]
  },
  {
   "cell_type": "code",
   "execution_count": 11,
   "metadata": {
    "collapsed": true,
    "hidden": true
   },
   "outputs": [],
   "source": [
    "# Helper Function to get Input and Output\n",
    "\n",
    "def getFeatLabel(datafr, features, label):\n",
    "    ## Features(Input) \n",
    "    X = datafr[features].values\n",
    "    ## & Label(Output)\n",
    "    y = category_df[label].values\n",
    "\n",
    "    ## Convert the Lables to categorical form\n",
    "    y = to_categorical(y)\n",
    "    \n",
    "    # Return X & y i.e Features & Label\n",
    "    return (X, y)"
   ]
  },
  {
   "cell_type": "code",
   "execution_count": 121,
   "metadata": {
    "collapsed": true,
    "hidden": true
   },
   "outputs": [],
   "source": [
    "# Helper Function\n",
    "\n",
    "# GET the Feature Vector\n",
    "def getKey(index_val, datafr):\n",
    "    return datafr[(datafr.index == index_val)].iloc[0]['FeatureVector'].reshape(1, -1)\n",
    "\n",
    "# GET a row from deals data frame\n",
    "def returnDeal(index, pd_series):\n",
    "    idx = pd_series[index]\n",
    "    \n",
    "    return df[df.Deal_ID == idx]"
   ]
  },
  {
   "cell_type": "markdown",
   "metadata": {
    "heading_collapsed": true
   },
   "source": [
    "### Category as Output Variable"
   ]
  },
  {
   "cell_type": "markdown",
   "metadata": {
    "hidden": true
   },
   "source": [
    "#### Features & Label"
   ]
  },
  {
   "cell_type": "code",
   "execution_count": 12,
   "metadata": {
    "collapsed": true,
    "hidden": true
   },
   "outputs": [],
   "source": [
    "category_df = subset_df[['Deal_ID', 'Category', 'Event', 'Budget', 'Gathering', 'Event_Month']].copy()\n",
    "category_df.dropna(inplace = True)"
   ]
  },
  {
   "cell_type": "code",
   "execution_count": 13,
   "metadata": {
    "collapsed": true,
    "hidden": true
   },
   "outputs": [],
   "source": [
    "# Create a Mapping\n",
    "## Singer (12) => 0\n",
    "## Comedian (3) => 1\n",
    "## Live Band (7) => 2\n",
    "\n",
    "category_df.loc[category_df.Category == 12, 'Category'] = 0\n",
    "category_df.loc[category_df.Category == 3, 'Category'] = 1\n",
    "category_df.loc[category_df.Category == 7, 'Category'] = 2"
   ]
  },
  {
   "cell_type": "code",
   "execution_count": 14,
   "metadata": {
    "hidden": true
   },
   "outputs": [
    {
     "data": {
      "text/plain": [
       "((8921, 4), (8921, 3))"
      ]
     },
     "execution_count": 14,
     "metadata": {},
     "output_type": "execute_result"
    }
   ],
   "source": [
    "# Shape of Features and Labels\n",
    "cat_X, cat_y = getFeatLabel(category_df, \n",
    "                    features = ['Event', 'Budget', 'Gathering', 'Event_Month'], \n",
    "                    label = ['Category'])\n",
    "cat_X.shape, cat_y.shape"
   ]
  },
  {
   "cell_type": "markdown",
   "metadata": {
    "hidden": true
   },
   "source": [
    "#### Normal Model\n",
    "Passing Features (Input) without Scaling."
   ]
  },
  {
   "cell_type": "code",
   "execution_count": 16,
   "metadata": {
    "hidden": true
   },
   "outputs": [
    {
     "name": "stdout",
     "output_type": "stream",
     "text": [
      "Epoch 1/10\n",
      "8921/8921 [==============================] - 2s 170us/step - loss: 8.6629 - acc: 0.4594\n",
      "Epoch 2/10\n",
      "8921/8921 [==============================] - 1s 102us/step - loss: 8.9632 - acc: 0.4383\n",
      "Epoch 3/10\n",
      "8921/8921 [==============================] - 1s 85us/step - loss: 8.6659 - acc: 0.4557\n",
      "Epoch 4/10\n",
      "8921/8921 [==============================] - 1s 96us/step - loss: 8.5991 - acc: 0.4619\n",
      "Epoch 5/10\n",
      "8921/8921 [==============================] - 1s 107us/step - loss: 8.6047 - acc: 0.4616\n",
      "Epoch 6/10\n",
      "8921/8921 [==============================] - 1s 110us/step - loss: 8.6096 - acc: 0.4615\n",
      "Epoch 7/10\n",
      "8921/8921 [==============================] - 1s 97us/step - loss: 8.6829 - acc: 0.4561\n",
      "Epoch 8/10\n",
      "8921/8921 [==============================] - 1s 85us/step - loss: 8.9169 - acc: 0.4375\n",
      "Epoch 9/10\n",
      "8921/8921 [==============================] - 1s 86us/step - loss: 8.7063 - acc: 0.4484\n",
      "Epoch 10/10\n",
      "8921/8921 [==============================] - 1s 116us/step - loss: 8.6649 - acc: 0.4150\n"
     ]
    },
    {
     "data": {
      "text/plain": [
       "<keras.callbacks.History at 0x27ae64c4748>"
      ]
     },
     "execution_count": 16,
     "metadata": {},
     "output_type": "execute_result"
    }
   ],
   "source": [
    "# GET the model to fit data\n",
    "category_model = getModel(output_dim = 3)\n",
    "\n",
    "## Fit the Model\n",
    "category_model.fit(cat_X, cat_y, batch_size = 32, epochs = 10)"
   ]
  },
  {
   "cell_type": "markdown",
   "metadata": {
    "hidden": true
   },
   "source": [
    "#### Scaled Model\n",
    "Passing Features (Input) after performing Scaling."
   ]
  },
  {
   "cell_type": "code",
   "execution_count": 17,
   "metadata": {
    "hidden": true
   },
   "outputs": [],
   "source": [
    "# Transform the Data\n",
    "cat_Xtran = SS.fit_transform(cat_X)"
   ]
  },
  {
   "cell_type": "code",
   "execution_count": 36,
   "metadata": {
    "hidden": true
   },
   "outputs": [
    {
     "name": "stdout",
     "output_type": "stream",
     "text": [
      "Train on 8028 samples, validate on 893 samples\n",
      "Epoch 1/20\n",
      "8028/8028 [==============================] - 2s 210us/step - loss: 0.9767 - acc: 0.5343 - val_loss: 1.1188 - val_acc: 0.4188\n",
      "Epoch 2/20\n",
      "8028/8028 [==============================] - 1s 90us/step - loss: 0.9670 - acc: 0.5364 - val_loss: 1.1442 - val_acc: 0.4166\n",
      "Epoch 3/20\n",
      "8028/8028 [==============================] - 1s 94us/step - loss: 0.9660 - acc: 0.5406 - val_loss: 1.1872 - val_acc: 0.4211\n",
      "Epoch 4/20\n",
      "8028/8028 [==============================] - 1s 93us/step - loss: 0.9619 - acc: 0.5405 - val_loss: 1.1769 - val_acc: 0.4177\n",
      "Epoch 5/20\n",
      "8028/8028 [==============================] - 1s 89us/step - loss: 0.9637 - acc: 0.5400 - val_loss: 1.1721 - val_acc: 0.4188\n",
      "Epoch 6/20\n",
      "8028/8028 [==============================] - 1s 92us/step - loss: 0.9598 - acc: 0.5448 - val_loss: 1.2082 - val_acc: 0.4278\n",
      "Epoch 7/20\n",
      "8028/8028 [==============================] - 1s 115us/step - loss: 0.9582 - acc: 0.5466 - val_loss: 1.1433 - val_acc: 0.4244\n",
      "Epoch 8/20\n",
      "8028/8028 [==============================] - 1s 122us/step - loss: 0.9553 - acc: 0.5438 - val_loss: 1.1827 - val_acc: 0.4289\n",
      "Epoch 9/20\n",
      "8028/8028 [==============================] - 1s 136us/step - loss: 0.9530 - acc: 0.5508 - val_loss: 1.1757 - val_acc: 0.4378\n",
      "Epoch 10/20\n",
      "8028/8028 [==============================] - 1s 117us/step - loss: 0.9483 - acc: 0.5497 - val_loss: 1.2041 - val_acc: 0.4457\n",
      "Epoch 11/20\n",
      "8028/8028 [==============================] - 1s 93us/step - loss: 0.9469 - acc: 0.5548 - val_loss: 1.1699 - val_acc: 0.4155\n",
      "Epoch 12/20\n",
      "8028/8028 [==============================] - 1s 96us/step - loss: 0.9440 - acc: 0.5599 - val_loss: 1.1648 - val_acc: 0.4300\n",
      "Epoch 13/20\n",
      "8028/8028 [==============================] - 1s 108us/step - loss: 0.9431 - acc: 0.5554 - val_loss: 1.1963 - val_acc: 0.4300\n",
      "Epoch 14/20\n",
      "8028/8028 [==============================] - 1s 92us/step - loss: 0.9404 - acc: 0.5653 - val_loss: 1.1898 - val_acc: 0.4434\n",
      "Epoch 15/20\n",
      "8028/8028 [==============================] - 1s 98us/step - loss: 0.9417 - acc: 0.5661 - val_loss: 1.2023 - val_acc: 0.4602\n",
      "Epoch 16/20\n",
      "8028/8028 [==============================] - 1s 97us/step - loss: 0.9377 - acc: 0.5656 - val_loss: 1.1677 - val_acc: 0.4558\n",
      "Epoch 17/20\n",
      "8028/8028 [==============================] - 1s 119us/step - loss: 0.9384 - acc: 0.5644 - val_loss: 1.1674 - val_acc: 0.4546\n",
      "Epoch 18/20\n",
      "8028/8028 [==============================] - 1s 128us/step - loss: 0.9335 - acc: 0.5740 - val_loss: 1.1995 - val_acc: 0.4569\n",
      "Epoch 19/20\n",
      "8028/8028 [==============================] - 1s 128us/step - loss: 0.9339 - acc: 0.5717 - val_loss: 1.1956 - val_acc: 0.4614\n",
      "Epoch 20/20\n",
      "8028/8028 [==============================] - 1s 116us/step - loss: 0.9319 - acc: 0.5708 - val_loss: 1.1302 - val_acc: 0.4748\n"
     ]
    },
    {
     "data": {
      "text/plain": [
       "<keras.callbacks.History at 0x27ae9dfac88>"
      ]
     },
     "execution_count": 36,
     "metadata": {},
     "output_type": "execute_result"
    }
   ],
   "source": [
    "# GET the model to fit data & Fit \n",
    "category_model = getModel(3)\n",
    "category_model.fit(cat_Xtran, cat_y, batch_size = 32, epochs = 20, validation_split = 0.1)"
   ]
  },
  {
   "cell_type": "code",
   "execution_count": 49,
   "metadata": {
    "hidden": true
   },
   "outputs": [
    {
     "name": "stdout",
     "output_type": "stream",
     "text": [
      "_________________________________________________________________\n",
      "Layer (type)                 Output Shape              Param #   \n",
      "=================================================================\n",
      "dense_1 (Dense)              (None, 16)                80        \n",
      "_________________________________________________________________\n",
      "dense_2 (Dense)              (None, 32)                544       \n",
      "_________________________________________________________________\n",
      "dense_3 (Dense)              (None, 64)                2112      \n",
      "_________________________________________________________________\n",
      "dense_4 (Dense)              (None, 128)               8320      \n",
      "_________________________________________________________________\n",
      "dense_5 (Dense)              (None, 64)                8256      \n",
      "_________________________________________________________________\n",
      "dense_6 (Dense)              (None, 32)                2080      \n",
      "_________________________________________________________________\n",
      "dense_7 (Dense)              (None, 3)                 99        \n",
      "=================================================================\n",
      "Total params: 21,491\n",
      "Trainable params: 21,491\n",
      "Non-trainable params: 0\n",
      "_________________________________________________________________\n"
     ]
    }
   ],
   "source": [
    "category_model.summary()"
   ]
  },
  {
   "cell_type": "code",
   "execution_count": 47,
   "metadata": {
    "hidden": true
   },
   "outputs": [
    {
     "name": "stdout",
     "output_type": "stream",
     "text": [
      "8921/8921 [==============================] - 0s 40us/step\n"
     ]
    },
    {
     "data": {
      "text/plain": [
       "[8.662060601683747, 0.46228001353158343]"
      ]
     },
     "execution_count": 47,
     "metadata": {},
     "output_type": "execute_result"
    }
   ],
   "source": [
    "category_model.evaluate(cat_X, cat_y)"
   ]
  },
  {
   "cell_type": "markdown",
   "metadata": {
    "hidden": true
   },
   "source": [
    "#### KNN\n",
    "Using second last layer of the Scaled Model to get Feature Vector for an Deal. Then, passing it to KNN Algorithm."
   ]
  },
  {
   "cell_type": "code",
   "execution_count": null,
   "metadata": {
    "collapsed": true,
    "hidden": true
   },
   "outputs": [],
   "source": [
    "# Select the Subset Model from the Scale Model\n",
    "subset_model = getSubsetModel('dense_6')"
   ]
  },
  {
   "cell_type": "code",
   "execution_count": 62,
   "metadata": {
    "hidden": true
   },
   "outputs": [
    {
     "name": "stderr",
     "output_type": "stream",
     "text": [
      "C:\\Users\\yash sharma\\Anaconda3\\lib\\site-packages\\ipykernel_launcher.py:7: FutureWarning: reshape is deprecated and will raise in a subsequent release. Please use .values.reshape(...) instead\n",
      "  import sys\n"
     ]
    }
   ],
   "source": [
    "# Fit the StandardScaler\n",
    "_cat_X = SS.fit(cat_X)\n",
    "\n",
    "# Create a Empty List to Store all the Feature Vectors\n",
    "feature_vectors = list()\n",
    "\n",
    "# for each deal in the event_df dataset\n",
    "for i in range(category_df.index.values.shape[0]):\n",
    "    # GET the index value\n",
    "    idx = category_df.index.values[i]\n",
    "    \n",
    "    # Select the features & scale (transform).\n",
    "    x = category_df.loc[idx, ['Event', 'Budget', 'Gathering', 'Event_Month']]\n",
    "    x = _cat_X.transform(x.reshape(1, -1))\n",
    "    \n",
    "    # GET the feature vector.\n",
    "    x = x.reshape(1, -1)\n",
    "    feat = subset_model.predict(x).ravel()\n",
    "    \n",
    "    # Append it to the feature_vector List\n",
    "    feature_vectors.append((event_df.loc[idx, 'Deal_ID'], feat))"
   ]
  },
  {
   "cell_type": "code",
   "execution_count": 67,
   "metadata": {
    "hidden": true
   },
   "outputs": [
    {
     "data": {
      "text/html": [
       "<div>\n",
       "<style scoped>\n",
       "    .dataframe tbody tr th:only-of-type {\n",
       "        vertical-align: middle;\n",
       "    }\n",
       "\n",
       "    .dataframe tbody tr th {\n",
       "        vertical-align: top;\n",
       "    }\n",
       "\n",
       "    .dataframe thead th {\n",
       "        text-align: right;\n",
       "    }\n",
       "</style>\n",
       "<table border=\"1\" class=\"dataframe\">\n",
       "  <thead>\n",
       "    <tr style=\"text-align: right;\">\n",
       "      <th></th>\n",
       "      <th>Deal_ID</th>\n",
       "      <th>FeatureVector</th>\n",
       "    </tr>\n",
       "  </thead>\n",
       "  <tbody>\n",
       "    <tr>\n",
       "      <th>0</th>\n",
       "      <td>9619</td>\n",
       "      <td>[0.0041830316, 0.46768874, 0.0, 0.0, 0.0, 0.0,...</td>\n",
       "    </tr>\n",
       "    <tr>\n",
       "      <th>1</th>\n",
       "      <td>9275</td>\n",
       "      <td>[0.0, 0.0, 0.0, 0.0, 0.0, 0.0, 0.0, 0.0, 0.0, ...</td>\n",
       "    </tr>\n",
       "    <tr>\n",
       "      <th>2</th>\n",
       "      <td>1489</td>\n",
       "      <td>[0.4039299, 0.0, 0.0, 0.0, 0.0, 0.0, 0.0, 0.0,...</td>\n",
       "    </tr>\n",
       "    <tr>\n",
       "      <th>3</th>\n",
       "      <td>9713</td>\n",
       "      <td>[0.25081688, 0.0, 0.0, 0.0, 0.0, 0.0, 0.0, 0.0...</td>\n",
       "    </tr>\n",
       "    <tr>\n",
       "      <th>4</th>\n",
       "      <td>16934</td>\n",
       "      <td>[0.1280865, 0.30308962, 0.0, 0.0, 0.0, 0.0, 0....</td>\n",
       "    </tr>\n",
       "  </tbody>\n",
       "</table>\n",
       "</div>"
      ],
      "text/plain": [
       "   Deal_ID                                      FeatureVector\n",
       "0     9619  [0.0041830316, 0.46768874, 0.0, 0.0, 0.0, 0.0,...\n",
       "1     9275  [0.0, 0.0, 0.0, 0.0, 0.0, 0.0, 0.0, 0.0, 0.0, ...\n",
       "2     1489  [0.4039299, 0.0, 0.0, 0.0, 0.0, 0.0, 0.0, 0.0,...\n",
       "3     9713  [0.25081688, 0.0, 0.0, 0.0, 0.0, 0.0, 0.0, 0.0...\n",
       "4    16934  [0.1280865, 0.30308962, 0.0, 0.0, 0.0, 0.0, 0...."
      ]
     },
     "execution_count": 67,
     "metadata": {},
     "output_type": "execute_result"
    }
   ],
   "source": [
    "# Create a dataframe for the feature_vector list\n",
    "featureVec_df = pd.DataFrame(feature_vectors, columns = ['Deal_ID', 'FeatureVector'])\n",
    "featureVec_df.head()"
   ]
  },
  {
   "cell_type": "code",
   "execution_count": 88,
   "metadata": {
    "collapsed": true,
    "hidden": true
   },
   "outputs": [],
   "source": [
    "# Mapping of Deal_ID to Index value in Feature Vector DataFrame\n",
    "indx2dealID = pd.Series(featureVec_df['Deal_ID'], index =featureVec_df.index)"
   ]
  },
  {
   "cell_type": "code",
   "execution_count": 94,
   "metadata": {
    "hidden": true
   },
   "outputs": [
    {
     "data": {
      "text/plain": [
       "NearestNeighbors(algorithm='ball_tree', leaf_size=30, metric='minkowski',\n",
       "         metric_params=None, n_jobs=1, n_neighbors=5, p=2, radius=1.0)"
      ]
     },
     "execution_count": 94,
     "metadata": {},
     "output_type": "execute_result"
    }
   ],
   "source": [
    "# Select the Feature Vectors & fi the KNN Algorithm\n",
    "X = list(featureVec_df['FeatureVector'])\n",
    "nbrs.fit(X)"
   ]
  },
  {
   "cell_type": "code",
   "execution_count": 101,
   "metadata": {
    "hidden": true
   },
   "outputs": [],
   "source": [
    "# GET key i.e Input Feature Vector\n",
    "key = getKey(4, featureVec_df)\n",
    "\n",
    "# Pass Key to the kneighbors() function to get the Top 5 Neighbors with Distance & Indices\n",
    "nbrs.kneighbors(key)"
   ]
  },
  {
   "cell_type": "code",
   "execution_count": 103,
   "metadata": {
    "hidden": true
   },
   "outputs": [
    {
     "data": {
      "text/html": [
       "<div>\n",
       "<style scoped>\n",
       "    .dataframe tbody tr th:only-of-type {\n",
       "        vertical-align: middle;\n",
       "    }\n",
       "\n",
       "    .dataframe tbody tr th {\n",
       "        vertical-align: top;\n",
       "    }\n",
       "\n",
       "    .dataframe thead th {\n",
       "        text-align: right;\n",
       "    }\n",
       "</style>\n",
       "<table border=\"1\" class=\"dataframe\">\n",
       "  <thead>\n",
       "    <tr style=\"text-align: right;\">\n",
       "      <th></th>\n",
       "      <th>Deal_ID</th>\n",
       "      <th>Title</th>\n",
       "      <th>Category</th>\n",
       "      <th>Event</th>\n",
       "      <th>Location</th>\n",
       "      <th>Budget</th>\n",
       "      <th>Gathering</th>\n",
       "      <th>Event_Date</th>\n",
       "      <th>Deal_Date</th>\n",
       "      <th>Artists_Pitched</th>\n",
       "      <th>Artists_Requested</th>\n",
       "      <th>Artists_Requested_URL</th>\n",
       "      <th>status</th>\n",
       "      <th>lost_reason</th>\n",
       "      <th>Source</th>\n",
       "      <th>Event_Month</th>\n",
       "    </tr>\n",
       "  </thead>\n",
       "  <tbody>\n",
       "    <tr>\n",
       "      <th>8</th>\n",
       "      <td>16935</td>\n",
       "      <td>Anant deal</td>\n",
       "      <td>7.0</td>\n",
       "      <td>1.0</td>\n",
       "      <td>Greater Noida, Uttar Pradesh, India</td>\n",
       "      <td>10000.0</td>\n",
       "      <td>600.0</td>\n",
       "      <td>2016-09-17</td>\n",
       "      <td>09-09-2016 06:30</td>\n",
       "      <td>6ix-mhz-25276, fitoor-the-band, haze, ruhani, ...</td>\n",
       "      <td>Ikrah</td>\n",
       "      <td>ikrah</td>\n",
       "      <td>lost</td>\n",
       "      <td>Old CRM</td>\n",
       "      <td>31.0</td>\n",
       "      <td>9.0</td>\n",
       "    </tr>\n",
       "  </tbody>\n",
       "</table>\n",
       "</div>"
      ],
      "text/plain": [
       "   Deal_ID       Title  Category  Event                             Location  \\\n",
       "8    16935  Anant deal       7.0    1.0  Greater Noida, Uttar Pradesh, India   \n",
       "\n",
       "    Budget  Gathering Event_Date         Deal_Date  \\\n",
       "8  10000.0      600.0 2016-09-17  09-09-2016 06:30   \n",
       "\n",
       "                                     Artists_Pitched Artists_Requested  \\\n",
       "8  6ix-mhz-25276, fitoor-the-band, haze, ruhani, ...             Ikrah   \n",
       "\n",
       "  Artists_Requested_URL status lost_reason  Source  Event_Month  \n",
       "8                 ikrah   lost     Old CRM    31.0          9.0  "
      ]
     },
     "execution_count": 103,
     "metadata": {},
     "output_type": "execute_result"
    }
   ],
   "source": [
    "# Function to return a rows from the Deal Data Frame based on the index value\n",
    "returnDeal(5)"
   ]
  },
  {
   "cell_type": "code",
   "execution_count": 104,
   "metadata": {
    "hidden": true
   },
   "outputs": [
    {
     "data": {
      "text/html": [
       "<div>\n",
       "<style scoped>\n",
       "    .dataframe tbody tr th:only-of-type {\n",
       "        vertical-align: middle;\n",
       "    }\n",
       "\n",
       "    .dataframe tbody tr th {\n",
       "        vertical-align: top;\n",
       "    }\n",
       "\n",
       "    .dataframe thead th {\n",
       "        text-align: right;\n",
       "    }\n",
       "</style>\n",
       "<table border=\"1\" class=\"dataframe\">\n",
       "  <thead>\n",
       "    <tr style=\"text-align: right;\">\n",
       "      <th></th>\n",
       "      <th>Deal_ID</th>\n",
       "      <th>Title</th>\n",
       "      <th>Category</th>\n",
       "      <th>Event</th>\n",
       "      <th>Location</th>\n",
       "      <th>Budget</th>\n",
       "      <th>Gathering</th>\n",
       "      <th>Event_Date</th>\n",
       "      <th>Deal_Date</th>\n",
       "      <th>Artists_Pitched</th>\n",
       "      <th>Artists_Requested</th>\n",
       "      <th>Artists_Requested_URL</th>\n",
       "      <th>status</th>\n",
       "      <th>lost_reason</th>\n",
       "      <th>Source</th>\n",
       "      <th>Event_Month</th>\n",
       "    </tr>\n",
       "  </thead>\n",
       "  <tbody>\n",
       "    <tr>\n",
       "      <th>14372</th>\n",
       "      <td>18090</td>\n",
       "      <td>Vinay Prasad deal</td>\n",
       "      <td>3.0</td>\n",
       "      <td>1.0</td>\n",
       "      <td>Bengaluru, Karnataka, India</td>\n",
       "      <td>10000.0</td>\n",
       "      <td>900.0</td>\n",
       "      <td>2017-09-16</td>\n",
       "      <td>08-06-2017 11:02</td>\n",
       "      <td>NaN</td>\n",
       "      <td>NaN</td>\n",
       "      <td>NaN</td>\n",
       "      <td>lost</td>\n",
       "      <td>Old CRM</td>\n",
       "      <td>32.0</td>\n",
       "      <td>9.0</td>\n",
       "    </tr>\n",
       "  </tbody>\n",
       "</table>\n",
       "</div>"
      ],
      "text/plain": [
       "       Deal_ID              Title  Category  Event  \\\n",
       "14372    18090  Vinay Prasad deal       3.0    1.0   \n",
       "\n",
       "                          Location   Budget  Gathering Event_Date  \\\n",
       "14372  Bengaluru, Karnataka, India  10000.0      900.0 2017-09-16   \n",
       "\n",
       "              Deal_Date Artists_Pitched Artists_Requested  \\\n",
       "14372  08-06-2017 11:02             NaN               NaN   \n",
       "\n",
       "      Artists_Requested_URL status lost_reason  Source  Event_Month  \n",
       "14372                   NaN   lost     Old CRM    32.0          9.0  "
      ]
     },
     "execution_count": 104,
     "metadata": {},
     "output_type": "execute_result"
    }
   ],
   "source": [
    "returnDeal(8650)"
   ]
  },
  {
   "cell_type": "markdown",
   "metadata": {
    "heading_collapsed": true,
    "hidden": true
   },
   "source": [
    "#### END NOTE"
   ]
  },
  {
   "cell_type": "markdown",
   "metadata": {
    "heading_collapsed": true
   },
   "source": [
    "### Event as Output Variable"
   ]
  },
  {
   "cell_type": "markdown",
   "metadata": {
    "heading_collapsed": true,
    "hidden": true
   },
   "source": [
    "#### Features & Labels"
   ]
  },
  {
   "cell_type": "code",
   "execution_count": 20,
   "metadata": {
    "hidden": true
   },
   "outputs": [],
   "source": [
    "event_df = subset_df[['Deal_ID', 'Category', 'Budget', 'Gathering', 'Event_Month', 'Event']].copy()\n",
    "event_df.dropna(inplace = True)"
   ]
  },
  {
   "cell_type": "code",
   "execution_count": 22,
   "metadata": {
    "hidden": true
   },
   "outputs": [],
   "source": [
    "# Create a Mapping\n",
    "event_df['Event'] = event_df['Event'].apply(lambda x: x - 1)"
   ]
  },
  {
   "cell_type": "code",
   "execution_count": 30,
   "metadata": {
    "hidden": true
   },
   "outputs": [
    {
     "data": {
      "text/plain": [
       "((8921, 4), (8921, 15))"
      ]
     },
     "execution_count": 30,
     "metadata": {},
     "output_type": "execute_result"
    }
   ],
   "source": [
    "# Shape of Features and Labels\n",
    "event_X, event_y = getFeatLabel(event_df, \n",
    "                    features = ['Category', 'Budget', 'Gathering', 'Event_Month'], \n",
    "                    label = ['Event'])\n",
    "event_X.shape, event_y.shape"
   ]
  },
  {
   "cell_type": "markdown",
   "metadata": {
    "heading_collapsed": true,
    "hidden": true
   },
   "source": [
    "#### Normal Model\n",
    "Passing Features without Scaling "
   ]
  },
  {
   "cell_type": "code",
   "execution_count": 31,
   "metadata": {
    "hidden": true
   },
   "outputs": [
    {
     "name": "stdout",
     "output_type": "stream",
     "text": [
      "Epoch 1/10\n",
      "8921/8921 [==============================] - 2s 181us/step - loss: 13.5867 - acc: 0.1513\n",
      "Epoch 2/10\n",
      "8921/8921 [==============================] - 1s 107us/step - loss: 13.4990 - acc: 0.1559\n",
      "Epoch 3/10\n",
      "8921/8921 [==============================] - 1s 99us/step - loss: 12.0313 - acc: 0.2474\n",
      "Epoch 4/10\n",
      "8921/8921 [==============================] - 1s 119us/step - loss: 12.1225 - acc: 0.2418\n",
      "Epoch 5/10\n",
      "8921/8921 [==============================] - 1s 126us/step - loss: 12.0288 - acc: 0.2463\n",
      "Epoch 6/10\n",
      "8921/8921 [==============================] - 1s 112us/step - loss: 12.0374 - acc: 0.2467\n",
      "Epoch 7/10\n",
      "8921/8921 [==============================] - 1s 109us/step - loss: 12.0279 - acc: 0.2482\n",
      "Epoch 8/10\n",
      "8921/8921 [==============================] - 1s 115us/step - loss: 13.5128 - acc: 0.1553\n",
      "Epoch 9/10\n",
      "8921/8921 [==============================] - 1s 149us/step - loss: 13.7168 - acc: 0.1424\n",
      "Epoch 10/10\n",
      "8921/8921 [==============================] - 1s 102us/step - loss: 12.6317 - acc: 0.2095\n"
     ]
    },
    {
     "data": {
      "text/plain": [
       "<keras.callbacks.History at 0x27ae85e4978>"
      ]
     },
     "execution_count": 31,
     "metadata": {},
     "output_type": "execute_result"
    }
   ],
   "source": [
    "event_model = getModel(15)\n",
    "event_model.fit(event_X, event_y, batch_size = 32, epochs = 10)"
   ]
  },
  {
   "cell_type": "markdown",
   "metadata": {
    "hidden": true
   },
   "source": [
    "#### Scaled Model\n",
    "Passing Features after Scaling."
   ]
  },
  {
   "cell_type": "code",
   "execution_count": 32,
   "metadata": {
    "collapsed": true,
    "hidden": true
   },
   "outputs": [],
   "source": [
    "event_Xtrans = SS.fit_transform(event_X)"
   ]
  },
  {
   "cell_type": "code",
   "execution_count": 154,
   "metadata": {
    "hidden": true
   },
   "outputs": [],
   "source": [
    "event_model = getModel(15)\n",
    "event_model.fit(event_Xtrans, event_y, batch_size = 32, epochs = 20)"
   ]
  },
  {
   "cell_type": "code",
   "execution_count": 155,
   "metadata": {
    "hidden": true
   },
   "outputs": [
    {
     "name": "stdout",
     "output_type": "stream",
     "text": [
      "_________________________________________________________________\n",
      "Layer (type)                 Output Shape              Param #   \n",
      "=================================================================\n",
      "dense_1 (Dense)              (None, 16)                80        \n",
      "_________________________________________________________________\n",
      "dense_2 (Dense)              (None, 32)                544       \n",
      "_________________________________________________________________\n",
      "dense_3 (Dense)              (None, 64)                2112      \n",
      "_________________________________________________________________\n",
      "dense_4 (Dense)              (None, 128)               8320      \n",
      "_________________________________________________________________\n",
      "dense_5 (Dense)              (None, 64)                8256      \n",
      "_________________________________________________________________\n",
      "dense_6 (Dense)              (None, 32)                2080      \n",
      "_________________________________________________________________\n",
      "dense_7 (Dense)              (None, 15)                495       \n",
      "=================================================================\n",
      "Total params: 21,887\n",
      "Trainable params: 21,887\n",
      "Non-trainable params: 0\n",
      "_________________________________________________________________\n"
     ]
    }
   ],
   "source": [
    "event_model.summary()"
   ]
  },
  {
   "cell_type": "markdown",
   "metadata": {
    "hidden": true
   },
   "source": [
    "#### KNN\n",
    "Using second last layer of the Scaled Model to get Feature Vector for an Deal. Then, passing it to KNN Algorithm."
   ]
  },
  {
   "cell_type": "code",
   "execution_count": 134,
   "metadata": {
    "collapsed": true,
    "hidden": true
   },
   "outputs": [],
   "source": [
    "# Select the Subset Model from the Scale Model\n",
    "sub_model = getSubsetModel(event_model, 'dense_6')"
   ]
  },
  {
   "cell_type": "code",
   "execution_count": 113,
   "metadata": {
    "hidden": true
   },
   "outputs": [
    {
     "name": "stderr",
     "output_type": "stream",
     "text": [
      "C:\\Users\\yash sharma\\Anaconda3\\lib\\site-packages\\ipykernel_launcher.py:9: FutureWarning: reshape is deprecated and will raise in a subsequent release. Please use .values.reshape(...) instead\n",
      "  if __name__ == '__main__':\n"
     ]
    }
   ],
   "source": [
    "# Fit the StandardScaler\n",
    "_cat_X = SS.fit(event_X)\n",
    "\n",
    "# Create a Empty List to Store all the Feature Vectors\n",
    "feature_vectors = list()\n",
    "\n",
    "# for each deal in the event_df dataset\n",
    "for i in range(event_df.index.values.shape[0]):\n",
    "    # GET the index value\n",
    "    idx = event_df.index.values[i]\n",
    "    \n",
    "    # Select the features & scale (transform).\n",
    "    x = event_df.loc[idx, ['Category', 'Budget', 'Gathering', 'Event_Month']]\n",
    "    x = _cat_X.transform(x.reshape(1, -1))\n",
    "    \n",
    "    # GET the feature vector.\n",
    "    x = x.reshape(1, -1)\n",
    "    feat = sub_model.predict(x).ravel()\n",
    "    \n",
    "    # Append it to the feature_vector List\n",
    "    feature_vectors.append((event_df.loc[idx, 'Deal_ID'], feat))"
   ]
  },
  {
   "cell_type": "code",
   "execution_count": 114,
   "metadata": {
    "hidden": true
   },
   "outputs": [
    {
     "data": {
      "text/html": [
       "<div>\n",
       "<style scoped>\n",
       "    .dataframe tbody tr th:only-of-type {\n",
       "        vertical-align: middle;\n",
       "    }\n",
       "\n",
       "    .dataframe tbody tr th {\n",
       "        vertical-align: top;\n",
       "    }\n",
       "\n",
       "    .dataframe thead th {\n",
       "        text-align: right;\n",
       "    }\n",
       "</style>\n",
       "<table border=\"1\" class=\"dataframe\">\n",
       "  <thead>\n",
       "    <tr style=\"text-align: right;\">\n",
       "      <th></th>\n",
       "      <th>Deal_ID</th>\n",
       "      <th>FeatureVector</th>\n",
       "    </tr>\n",
       "  </thead>\n",
       "  <tbody>\n",
       "    <tr>\n",
       "      <th>0</th>\n",
       "      <td>9619</td>\n",
       "      <td>[0.12421417, 0.21962073, 0.0, 0.20236364, 0.0,...</td>\n",
       "    </tr>\n",
       "    <tr>\n",
       "      <th>1</th>\n",
       "      <td>9275</td>\n",
       "      <td>[0.13208781, 0.14412951, 0.0, 0.10764038, 0.0,...</td>\n",
       "    </tr>\n",
       "    <tr>\n",
       "      <th>2</th>\n",
       "      <td>1489</td>\n",
       "      <td>[0.07700503, 0.0, 0.0, 0.0, 0.0, 0.0, 0.0, 0.0...</td>\n",
       "    </tr>\n",
       "    <tr>\n",
       "      <th>3</th>\n",
       "      <td>9713</td>\n",
       "      <td>[0.0, 0.20337734, 0.0, 0.6346768, 0.0, 0.09311...</td>\n",
       "    </tr>\n",
       "    <tr>\n",
       "      <th>4</th>\n",
       "      <td>16934</td>\n",
       "      <td>[0.20890461, 0.0, 0.0, 0.3500466, 0.0, 0.01232...</td>\n",
       "    </tr>\n",
       "  </tbody>\n",
       "</table>\n",
       "</div>"
      ],
      "text/plain": [
       "   Deal_ID                                      FeatureVector\n",
       "0     9619  [0.12421417, 0.21962073, 0.0, 0.20236364, 0.0,...\n",
       "1     9275  [0.13208781, 0.14412951, 0.0, 0.10764038, 0.0,...\n",
       "2     1489  [0.07700503, 0.0, 0.0, 0.0, 0.0, 0.0, 0.0, 0.0...\n",
       "3     9713  [0.0, 0.20337734, 0.0, 0.6346768, 0.0, 0.09311...\n",
       "4    16934  [0.20890461, 0.0, 0.0, 0.3500466, 0.0, 0.01232..."
      ]
     },
     "execution_count": 114,
     "metadata": {},
     "output_type": "execute_result"
    }
   ],
   "source": [
    "# Create a dataframe for the feature_vector list\n",
    "featureVec_df = pd.DataFrame(feature_vectors, columns = ['Deal_ID', 'FeatureVector'])\n",
    "featureVec_df.head()"
   ]
  },
  {
   "cell_type": "code",
   "execution_count": 140,
   "metadata": {
    "hidden": true
   },
   "outputs": [
    {
     "data": {
      "text/html": [
       "<div>\n",
       "<style scoped>\n",
       "    .dataframe tbody tr th:only-of-type {\n",
       "        vertical-align: middle;\n",
       "    }\n",
       "\n",
       "    .dataframe tbody tr th {\n",
       "        vertical-align: top;\n",
       "    }\n",
       "\n",
       "    .dataframe thead th {\n",
       "        text-align: right;\n",
       "    }\n",
       "</style>\n",
       "<table border=\"1\" class=\"dataframe\">\n",
       "  <thead>\n",
       "    <tr style=\"text-align: right;\">\n",
       "      <th></th>\n",
       "      <th>Deal_ID</th>\n",
       "      <th>FeatureVector</th>\n",
       "    </tr>\n",
       "  </thead>\n",
       "  <tbody>\n",
       "    <tr>\n",
       "      <th>10</th>\n",
       "      <td>11486</td>\n",
       "      <td>[0.0, 0.0, 0.0, 0.0, 0.0, 0.28120857, 0.0, 0.0...</td>\n",
       "    </tr>\n",
       "    <tr>\n",
       "      <th>11</th>\n",
       "      <td>3734</td>\n",
       "      <td>[0.0, 0.0, 0.0, 0.0, 0.0, 0.39888817, 0.0, 0.0...</td>\n",
       "    </tr>\n",
       "    <tr>\n",
       "      <th>12</th>\n",
       "      <td>14561</td>\n",
       "      <td>[0.12087242, 0.0, 0.0, 0.0, 0.0, 0.0, 0.0, 0.0...</td>\n",
       "    </tr>\n",
       "    <tr>\n",
       "      <th>13</th>\n",
       "      <td>9438</td>\n",
       "      <td>[0.26366344, 0.20904714, 0.0, 0.20816803, 0.0,...</td>\n",
       "    </tr>\n",
       "    <tr>\n",
       "      <th>14</th>\n",
       "      <td>17591</td>\n",
       "      <td>[0.12421663, 0.21962178, 0.0, 0.20236333, 0.0,...</td>\n",
       "    </tr>\n",
       "    <tr>\n",
       "      <th>15</th>\n",
       "      <td>18727</td>\n",
       "      <td>[0.38943547, 0.0, 0.0, 0.0, 0.0, 0.0, 0.0, 0.0...</td>\n",
       "    </tr>\n",
       "    <tr>\n",
       "      <th>16</th>\n",
       "      <td>922</td>\n",
       "      <td>[0.21908273, 0.0, 0.0, 0.43872043, 0.0, 0.0, 0...</td>\n",
       "    </tr>\n",
       "    <tr>\n",
       "      <th>17</th>\n",
       "      <td>972</td>\n",
       "      <td>[0.13998075, 0.2077116, 0.0, 0.5102943, 0.0, 0...</td>\n",
       "    </tr>\n",
       "    <tr>\n",
       "      <th>18</th>\n",
       "      <td>3255</td>\n",
       "      <td>[0.0, 0.0, 0.0, 0.19550443, 0.0, 0.08660318, 0...</td>\n",
       "    </tr>\n",
       "    <tr>\n",
       "      <th>19</th>\n",
       "      <td>7051</td>\n",
       "      <td>[0.0, 0.0, 0.0, 0.33441928, 0.0, 0.1129024, 0....</td>\n",
       "    </tr>\n",
       "    <tr>\n",
       "      <th>20</th>\n",
       "      <td>3748</td>\n",
       "      <td>[0.0, 0.0, 0.0, 0.33461097, 0.0, 0.11290842, 0...</td>\n",
       "    </tr>\n",
       "  </tbody>\n",
       "</table>\n",
       "</div>"
      ],
      "text/plain": [
       "    Deal_ID                                      FeatureVector\n",
       "10    11486  [0.0, 0.0, 0.0, 0.0, 0.0, 0.28120857, 0.0, 0.0...\n",
       "11     3734  [0.0, 0.0, 0.0, 0.0, 0.0, 0.39888817, 0.0, 0.0...\n",
       "12    14561  [0.12087242, 0.0, 0.0, 0.0, 0.0, 0.0, 0.0, 0.0...\n",
       "13     9438  [0.26366344, 0.20904714, 0.0, 0.20816803, 0.0,...\n",
       "14    17591  [0.12421663, 0.21962178, 0.0, 0.20236333, 0.0,...\n",
       "15    18727  [0.38943547, 0.0, 0.0, 0.0, 0.0, 0.0, 0.0, 0.0...\n",
       "16      922  [0.21908273, 0.0, 0.0, 0.43872043, 0.0, 0.0, 0...\n",
       "17      972  [0.13998075, 0.2077116, 0.0, 0.5102943, 0.0, 0...\n",
       "18     3255  [0.0, 0.0, 0.0, 0.19550443, 0.0, 0.08660318, 0...\n",
       "19     7051  [0.0, 0.0, 0.0, 0.33441928, 0.0, 0.1129024, 0....\n",
       "20     3748  [0.0, 0.0, 0.0, 0.33461097, 0.0, 0.11290842, 0..."
      ]
     },
     "execution_count": 140,
     "metadata": {},
     "output_type": "execute_result"
    }
   ],
   "source": [
    "featureVec_df.loc[10:20, :]"
   ]
  },
  {
   "cell_type": "code",
   "execution_count": 118,
   "metadata": {
    "collapsed": true,
    "hidden": true
   },
   "outputs": [],
   "source": [
    "# Mapping of Deal_ID to Index value in Feature Vector DataFrame\n",
    "indx2dealID = pd.Series(featureVec_df['Deal_ID'], index = featureVec_df.index)"
   ]
  },
  {
   "cell_type": "code",
   "execution_count": 119,
   "metadata": {
    "hidden": true
   },
   "outputs": [
    {
     "data": {
      "text/plain": [
       "NearestNeighbors(algorithm='ball_tree', leaf_size=30, metric='minkowski',\n",
       "         metric_params=None, n_jobs=1, n_neighbors=5, p=2, radius=1.0)"
      ]
     },
     "execution_count": 119,
     "metadata": {},
     "output_type": "execute_result"
    }
   ],
   "source": [
    "# Select the Feature Vectors & fi the KNN Algorithm\n",
    "X = list(featureVec_df['FeatureVector'])\n",
    "nbrs.fit(X)"
   ]
  },
  {
   "cell_type": "code",
   "execution_count": 141,
   "metadata": {
    "hidden": true
   },
   "outputs": [
    {
     "data": {
      "text/plain": [
       "(array([[0., 0., 0., 0., 0.]]),\n",
       " array([[4149,  306,   16, 4144, 4248]], dtype=int64))"
      ]
     },
     "execution_count": 141,
     "metadata": {},
     "output_type": "execute_result"
    }
   ],
   "source": [
    "# GET key i.e Input Feature Vector\n",
    "key = getKey(16, featureVec_df)\n",
    "\n",
    "# Pass Key to the kneighbors() function to get the Top 5 Neighbors with Distance & Indices\n",
    "nbrs.kneighbors(key)"
   ]
  },
  {
   "cell_type": "code",
   "execution_count": 142,
   "metadata": {
    "hidden": true
   },
   "outputs": [
    {
     "data": {
      "text/html": [
       "<div>\n",
       "<style scoped>\n",
       "    .dataframe tbody tr th:only-of-type {\n",
       "        vertical-align: middle;\n",
       "    }\n",
       "\n",
       "    .dataframe tbody tr th {\n",
       "        vertical-align: top;\n",
       "    }\n",
       "\n",
       "    .dataframe thead th {\n",
       "        text-align: right;\n",
       "    }\n",
       "</style>\n",
       "<table border=\"1\" class=\"dataframe\">\n",
       "  <thead>\n",
       "    <tr style=\"text-align: right;\">\n",
       "      <th></th>\n",
       "      <th>Deal_ID</th>\n",
       "      <th>Title</th>\n",
       "      <th>Category</th>\n",
       "      <th>Event</th>\n",
       "      <th>Location</th>\n",
       "      <th>Budget</th>\n",
       "      <th>Gathering</th>\n",
       "      <th>Event_Date</th>\n",
       "      <th>Deal_Date</th>\n",
       "      <th>Artists_Pitched</th>\n",
       "      <th>Artists_Requested</th>\n",
       "      <th>Artists_Requested_URL</th>\n",
       "      <th>status</th>\n",
       "      <th>lost_reason</th>\n",
       "      <th>Source</th>\n",
       "      <th>Event_Month</th>\n",
       "    </tr>\n",
       "  </thead>\n",
       "  <tbody>\n",
       "    <tr>\n",
       "      <th>23</th>\n",
       "      <td>922</td>\n",
       "      <td>Karan Bhatia deal</td>\n",
       "      <td>12.0</td>\n",
       "      <td>14.0</td>\n",
       "      <td>Delhi, India</td>\n",
       "      <td>50000.0</td>\n",
       "      <td>300.0</td>\n",
       "      <td>2018-04-14</td>\n",
       "      <td>18-02-2018 20:12</td>\n",
       "      <td>abazz</td>\n",
       "      <td>Akhil</td>\n",
       "      <td>akhil</td>\n",
       "      <td>lost</td>\n",
       "      <td>client don't want to book any artist</td>\n",
       "      <td>31.0</td>\n",
       "      <td>4.0</td>\n",
       "    </tr>\n",
       "  </tbody>\n",
       "</table>\n",
       "</div>"
      ],
      "text/plain": [
       "    Deal_ID              Title  Category  Event      Location   Budget  \\\n",
       "23      922  Karan Bhatia deal      12.0   14.0  Delhi, India  50000.0   \n",
       "\n",
       "    Gathering Event_Date         Deal_Date Artists_Pitched Artists_Requested  \\\n",
       "23      300.0 2018-04-14  18-02-2018 20:12           abazz             Akhil   \n",
       "\n",
       "   Artists_Requested_URL status                           lost_reason  Source  \\\n",
       "23                 akhil   lost  client don't want to book any artist    31.0   \n",
       "\n",
       "    Event_Month  \n",
       "23          4.0  "
      ]
     },
     "execution_count": 142,
     "metadata": {},
     "output_type": "execute_result"
    }
   ],
   "source": [
    "# Function to return a rows from the Deal Data Frame based on the index value\n",
    "returnDeal(16, indx2dealID)"
   ]
  },
  {
   "cell_type": "code",
   "execution_count": 149,
   "metadata": {
    "hidden": true
   },
   "outputs": [
    {
     "data": {
      "text/html": [
       "<div>\n",
       "<style scoped>\n",
       "    .dataframe tbody tr th:only-of-type {\n",
       "        vertical-align: middle;\n",
       "    }\n",
       "\n",
       "    .dataframe tbody tr th {\n",
       "        vertical-align: top;\n",
       "    }\n",
       "\n",
       "    .dataframe thead th {\n",
       "        text-align: right;\n",
       "    }\n",
       "</style>\n",
       "<table border=\"1\" class=\"dataframe\">\n",
       "  <thead>\n",
       "    <tr style=\"text-align: right;\">\n",
       "      <th></th>\n",
       "      <th>Deal_ID</th>\n",
       "      <th>Title</th>\n",
       "      <th>Category</th>\n",
       "      <th>Event</th>\n",
       "      <th>Location</th>\n",
       "      <th>Budget</th>\n",
       "      <th>Gathering</th>\n",
       "      <th>Event_Date</th>\n",
       "      <th>Deal_Date</th>\n",
       "      <th>Artists_Pitched</th>\n",
       "      <th>Artists_Requested</th>\n",
       "      <th>Artists_Requested_URL</th>\n",
       "      <th>status</th>\n",
       "      <th>lost_reason</th>\n",
       "      <th>Source</th>\n",
       "      <th>Event_Month</th>\n",
       "    </tr>\n",
       "  </thead>\n",
       "  <tbody>\n",
       "    <tr>\n",
       "      <th>455</th>\n",
       "      <td>916</td>\n",
       "      <td>KKGUPTA deal</td>\n",
       "      <td>12.0</td>\n",
       "      <td>12.0</td>\n",
       "      <td>Delhi, India</td>\n",
       "      <td>50000.0</td>\n",
       "      <td>300.0</td>\n",
       "      <td>2018-04-20</td>\n",
       "      <td>18-02-2018 13:54</td>\n",
       "      <td>gitanjali-rai</td>\n",
       "      <td>Gitanjali Rai</td>\n",
       "      <td>gitanjali-rai</td>\n",
       "      <td>lost</td>\n",
       "      <td>Just Quote</td>\n",
       "      <td>31.0</td>\n",
       "      <td>4.0</td>\n",
       "    </tr>\n",
       "  </tbody>\n",
       "</table>\n",
       "</div>"
      ],
      "text/plain": [
       "     Deal_ID         Title  Category  Event      Location   Budget  Gathering  \\\n",
       "455      916  KKGUPTA deal      12.0   12.0  Delhi, India  50000.0      300.0   \n",
       "\n",
       "    Event_Date         Deal_Date Artists_Pitched Artists_Requested  \\\n",
       "455 2018-04-20  18-02-2018 13:54   gitanjali-rai     Gitanjali Rai   \n",
       "\n",
       "    Artists_Requested_URL status lost_reason  Source  Event_Month  \n",
       "455         gitanjali-rai   lost  Just Quote    31.0          4.0  "
      ]
     },
     "execution_count": 149,
     "metadata": {},
     "output_type": "execute_result"
    }
   ],
   "source": [
    "returnDeal(306, indx2dealID)"
   ]
  },
  {
   "cell_type": "markdown",
   "metadata": {
    "heading_collapsed": true,
    "hidden": true
   },
   "source": [
    "#### END NOTE"
   ]
  },
  {
   "cell_type": "markdown",
   "metadata": {
    "heading_collapsed": true
   },
   "source": [
    "## END"
   ]
  },
  {
   "cell_type": "code",
   "execution_count": null,
   "metadata": {
    "collapsed": true,
    "hidden": true
   },
   "outputs": [],
   "source": []
  }
 ],
 "metadata": {
  "kernelspec": {
   "display_name": "Python 3",
   "language": "python",
   "name": "python3"
  },
  "language_info": {
   "codemirror_mode": {
    "name": "ipython",
    "version": 3
   },
   "file_extension": ".py",
   "mimetype": "text/x-python",
   "name": "python",
   "nbconvert_exporter": "python",
   "pygments_lexer": "ipython3",
   "version": "3.6.4"
  }
 },
 "nbformat": 4,
 "nbformat_minor": 2
}
