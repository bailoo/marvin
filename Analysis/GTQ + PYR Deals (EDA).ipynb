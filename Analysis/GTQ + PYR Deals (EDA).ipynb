{
 "cells": [
  {
   "cell_type": "markdown",
   "metadata": {},
   "source": [
    "## Libraries"
   ]
  },
  {
   "cell_type": "code",
   "execution_count": 1,
   "metadata": {
    "collapsed": true
   },
   "outputs": [],
   "source": [
    "import pandas as pd\n",
    "import numpy as np\n",
    "\n",
    "import matplotlib.pyplot as plt\n",
    "%matplotlib inline\n",
    "\n",
    "# Setting up the Size of the Matplotlib Figures\n",
    "plt.rcParams[\"figure.figsize\"] = (16, 8)"
   ]
  },
  {
   "cell_type": "code",
   "execution_count": 2,
   "metadata": {
    "collapsed": true
   },
   "outputs": [],
   "source": [
    "from sklearn.cluster import KMeans\n",
    "from sklearn.decomposition import PCA\n",
    "from scipy import stats\n",
    "import seaborn as sns"
   ]
  },
  {
   "cell_type": "markdown",
   "metadata": {},
   "source": [
    "## Dataset"
   ]
  },
  {
   "cell_type": "code",
   "execution_count": 3,
   "metadata": {
    "collapsed": true
   },
   "outputs": [],
   "source": [
    "# Load the Dataset into the Memory\n",
    "deals = pd.read_csv('../GTQ+PYR Deals/Data/deal-details-infomation.csv')"
   ]
  },
  {
   "cell_type": "code",
   "execution_count": 4,
   "metadata": {
    "slideshow": {
     "slide_type": "slide"
    }
   },
   "outputs": [
    {
     "data": {
      "text/html": [
       "<div>\n",
       "<style scoped>\n",
       "    .dataframe tbody tr th:only-of-type {\n",
       "        vertical-align: middle;\n",
       "    }\n",
       "\n",
       "    .dataframe tbody tr th {\n",
       "        vertical-align: top;\n",
       "    }\n",
       "\n",
       "    .dataframe thead th {\n",
       "        text-align: right;\n",
       "    }\n",
       "</style>\n",
       "<table border=\"1\" class=\"dataframe\">\n",
       "  <thead>\n",
       "    <tr style=\"text-align: right;\">\n",
       "      <th></th>\n",
       "      <th>Deal_ID</th>\n",
       "      <th>Title</th>\n",
       "      <th>Category</th>\n",
       "      <th>Event</th>\n",
       "      <th>Location</th>\n",
       "      <th>Budget</th>\n",
       "      <th>Gathering</th>\n",
       "      <th>Event_Date</th>\n",
       "      <th>Deal_Date</th>\n",
       "      <th>Artists_Pitched</th>\n",
       "      <th>Artists_Requested</th>\n",
       "      <th>Artists_Requested_URL</th>\n",
       "      <th>status</th>\n",
       "      <th>lost_reason</th>\n",
       "      <th>Source</th>\n",
       "    </tr>\n",
       "  </thead>\n",
       "  <tbody>\n",
       "    <tr>\n",
       "      <th>0</th>\n",
       "      <td>2481</td>\n",
       "      <td>Gautam</td>\n",
       "      <td>1</td>\n",
       "      <td>18.0</td>\n",
       "      <td>Lonavala, Maharashtra, India</td>\n",
       "      <td>50000.0</td>\n",
       "      <td>100.0</td>\n",
       "      <td>09-04-2018</td>\n",
       "      <td>23-03-2018 07:50</td>\n",
       "      <td>(https://starclinch.com/diljit-dosanjh, https:...</td>\n",
       "      <td>NaN</td>\n",
       "      <td>NaN</td>\n",
       "      <td>lost</td>\n",
       "      <td>Booked Another Artist Elsewhere</td>\n",
       "      <td>32.0</td>\n",
       "    </tr>\n",
       "    <tr>\n",
       "      <th>1</th>\n",
       "      <td>11439</td>\n",
       "      <td>Navjot deal</td>\n",
       "      <td>12</td>\n",
       "      <td>24.0</td>\n",
       "      <td>Dehradun, Uttarakhand, India</td>\n",
       "      <td>3000.0</td>\n",
       "      <td>25.0</td>\n",
       "      <td>23-11-2017</td>\n",
       "      <td>13-11-2017 04:45</td>\n",
       "      <td>https://starclinch.com/ishaan-dobhal-official,...</td>\n",
       "      <td>Panahe</td>\n",
       "      <td>https://www.starclinch.com/panahe</td>\n",
       "      <td>lost</td>\n",
       "      <td>Old CRM</td>\n",
       "      <td>31.0</td>\n",
       "    </tr>\n",
       "    <tr>\n",
       "      <th>2</th>\n",
       "      <td>11484</td>\n",
       "      <td>Souvik deal</td>\n",
       "      <td>12</td>\n",
       "      <td>18.0</td>\n",
       "      <td>Kolkata, West Bengal, India</td>\n",
       "      <td>500000.0</td>\n",
       "      <td>1500.0</td>\n",
       "      <td>24-11-2017</td>\n",
       "      <td>10-11-2017 18:39</td>\n",
       "      <td>https://starclinch.com/rahul-jain</td>\n",
       "      <td>Rahul Jain</td>\n",
       "      <td>https://www.starclinch.com/rahul-jain</td>\n",
       "      <td>lost</td>\n",
       "      <td>Old CRM</td>\n",
       "      <td>31.0</td>\n",
       "    </tr>\n",
       "    <tr>\n",
       "      <th>3</th>\n",
       "      <td>11440</td>\n",
       "      <td>Harshal Dongre deal</td>\n",
       "      <td>3</td>\n",
       "      <td>15.0</td>\n",
       "      <td>Mumbai, Maharashtra, India</td>\n",
       "      <td>60000.0</td>\n",
       "      <td>2000.0</td>\n",
       "      <td>22-12-2017</td>\n",
       "      <td>12-11-2017 20:51</td>\n",
       "      <td>https://starclinch.com/aakash-gupta, https://s...</td>\n",
       "      <td>Kunal Kamra</td>\n",
       "      <td>https://www.starclinch.com/kunal-kamra</td>\n",
       "      <td>lost</td>\n",
       "      <td>Old CRM</td>\n",
       "      <td>31.0</td>\n",
       "    </tr>\n",
       "    <tr>\n",
       "      <th>4</th>\n",
       "      <td>9596</td>\n",
       "      <td>Ashok Agarwal deal</td>\n",
       "      <td>12</td>\n",
       "      <td>17.0</td>\n",
       "      <td>NaN</td>\n",
       "      <td>100000.0</td>\n",
       "      <td>500.0</td>\n",
       "      <td>15-04-2018</td>\n",
       "      <td>02-02-2018 08:14</td>\n",
       "      <td>https://starclinch.com/youthellennium-dance-ac...</td>\n",
       "      <td>Preety Bhalla</td>\n",
       "      <td>https://www.starclinch.com/preety-bhalla</td>\n",
       "      <td>lost</td>\n",
       "      <td>Old CRM</td>\n",
       "      <td>31.0</td>\n",
       "    </tr>\n",
       "  </tbody>\n",
       "</table>\n",
       "</div>"
      ],
      "text/plain": [
       "   Deal_ID                Title Category  Event                      Location  \\\n",
       "0     2481               Gautam        1   18.0  Lonavala, Maharashtra, India   \n",
       "1    11439          Navjot deal       12   24.0  Dehradun, Uttarakhand, India   \n",
       "2    11484          Souvik deal       12   18.0   Kolkata, West Bengal, India   \n",
       "3    11440  Harshal Dongre deal        3   15.0    Mumbai, Maharashtra, India   \n",
       "4     9596   Ashok Agarwal deal       12   17.0                           NaN   \n",
       "\n",
       "     Budget  Gathering  Event_Date         Deal_Date  \\\n",
       "0   50000.0      100.0  09-04-2018  23-03-2018 07:50   \n",
       "1    3000.0       25.0  23-11-2017  13-11-2017 04:45   \n",
       "2  500000.0     1500.0  24-11-2017  10-11-2017 18:39   \n",
       "3   60000.0     2000.0  22-12-2017  12-11-2017 20:51   \n",
       "4  100000.0      500.0  15-04-2018  02-02-2018 08:14   \n",
       "\n",
       "                                     Artists_Pitched Artists_Requested  \\\n",
       "0  (https://starclinch.com/diljit-dosanjh, https:...               NaN   \n",
       "1  https://starclinch.com/ishaan-dobhal-official,...            Panahe   \n",
       "2                  https://starclinch.com/rahul-jain        Rahul Jain   \n",
       "3  https://starclinch.com/aakash-gupta, https://s...       Kunal Kamra   \n",
       "4  https://starclinch.com/youthellennium-dance-ac...     Preety Bhalla   \n",
       "\n",
       "                      Artists_Requested_URL status  \\\n",
       "0                                       NaN   lost   \n",
       "1         https://www.starclinch.com/panahe   lost   \n",
       "2     https://www.starclinch.com/rahul-jain   lost   \n",
       "3    https://www.starclinch.com/kunal-kamra   lost   \n",
       "4  https://www.starclinch.com/preety-bhalla   lost   \n",
       "\n",
       "                       lost_reason  Source  \n",
       "0  Booked Another Artist Elsewhere    32.0  \n",
       "1                          Old CRM    31.0  \n",
       "2                          Old CRM    31.0  \n",
       "3                          Old CRM    31.0  \n",
       "4                          Old CRM    31.0  "
      ]
     },
     "execution_count": 4,
     "metadata": {},
     "output_type": "execute_result"
    }
   ],
   "source": [
    "deals.head()"
   ]
  },
  {
   "cell_type": "code",
   "execution_count": 5,
   "metadata": {
    "collapsed": true
   },
   "outputs": [],
   "source": [
    "# Event is from 15-28 but should be in range (1-14)\n",
    "deals['Event'] = deals['Event'].apply(lambda x: x - 14)"
   ]
  },
  {
   "cell_type": "code",
   "execution_count": 6,
   "metadata": {
    "collapsed": true
   },
   "outputs": [],
   "source": [
    "# Converting Date Columne to Pandas DataTime\n",
    "deals['Event_Date'] = pd.to_datetime(deals['Event_Date'], errors = 'coerce')\n",
    "deals['Deal_Date'] = pd.to_datetime(deals['Deal_Date'], errors = 'coerce')"
   ]
  },
  {
   "cell_type": "code",
   "execution_count": 7,
   "metadata": {
    "collapsed": true
   },
   "outputs": [],
   "source": [
    "# Artists Information\n",
    "artists_df = pd.read_csv('../GTQ+PYR Deals/Data/ArtistsMapping.csv')"
   ]
  },
  {
   "cell_type": "markdown",
   "metadata": {},
   "source": [
    "Converting Categories from String Value to Integer i.e giving each Category a `unique INT` Value."
   ]
  },
  {
   "cell_type": "code",
   "execution_count": 8,
   "metadata": {
    "collapsed": true
   },
   "outputs": [],
   "source": [
    "category_2_idx = {\n",
    "    \"anchor/emcee\": 1,\n",
    "    \"celebrity appearance\": 2,\n",
    "    \"comedian\": 3,\n",
    "    \"dancer/troupe\": 4,\n",
    "    \"dj\": 5,\n",
    "    \"instrumentalist\": 6,\n",
    "    \"live band\": 7,\n",
    "    \"magician\": 8,\n",
    "    \"make-up artist/stylist\": 9,\n",
    "    \"model\": 10,\n",
    "    \"photo/videographer\": 11,\n",
    "    \"singer\": 12,\n",
    "    \"speaker\": 13,\n",
    "    \"variety artists\": 14\n",
    "}\n",
    "\n",
    "artists_df['CategoryName'] = artists_df['CategoryName'].str.lower().map(category_2_idx)"
   ]
  },
  {
   "cell_type": "code",
   "execution_count": 9,
   "metadata": {},
   "outputs": [
    {
     "data": {
      "text/html": [
       "<div>\n",
       "<style scoped>\n",
       "    .dataframe tbody tr th:only-of-type {\n",
       "        vertical-align: middle;\n",
       "    }\n",
       "\n",
       "    .dataframe tbody tr th {\n",
       "        vertical-align: top;\n",
       "    }\n",
       "\n",
       "    .dataframe thead th {\n",
       "        text-align: right;\n",
       "    }\n",
       "</style>\n",
       "<table border=\"1\" class=\"dataframe\">\n",
       "  <thead>\n",
       "    <tr style=\"text-align: right;\">\n",
       "      <th></th>\n",
       "      <th>UserId</th>\n",
       "      <th>CategoryName</th>\n",
       "      <th>ProfileUrl</th>\n",
       "    </tr>\n",
       "  </thead>\n",
       "  <tbody>\n",
       "    <tr>\n",
       "      <th>0</th>\n",
       "      <td>159366</td>\n",
       "      <td>7.0</td>\n",
       "      <td>adam-and-the-fish-eyed-poets</td>\n",
       "    </tr>\n",
       "    <tr>\n",
       "      <th>1</th>\n",
       "      <td>136731</td>\n",
       "      <td>7.0</td>\n",
       "      <td>ashes-in-flames</td>\n",
       "    </tr>\n",
       "    <tr>\n",
       "      <th>2</th>\n",
       "      <td>158520</td>\n",
       "      <td>7.0</td>\n",
       "      <td>fovea</td>\n",
       "    </tr>\n",
       "    <tr>\n",
       "      <th>3</th>\n",
       "      <td>136307</td>\n",
       "      <td>7.0</td>\n",
       "      <td>frozen-chimes</td>\n",
       "    </tr>\n",
       "    <tr>\n",
       "      <th>4</th>\n",
       "      <td>232701</td>\n",
       "      <td>7.0</td>\n",
       "      <td>-killchain-india</td>\n",
       "    </tr>\n",
       "  </tbody>\n",
       "</table>\n",
       "</div>"
      ],
      "text/plain": [
       "   UserId  CategoryName                    ProfileUrl\n",
       "0  159366           7.0  adam-and-the-fish-eyed-poets\n",
       "1  136731           7.0               ashes-in-flames\n",
       "2  158520           7.0                         fovea\n",
       "3  136307           7.0                 frozen-chimes\n",
       "4  232701           7.0              -killchain-india"
      ]
     },
     "execution_count": 9,
     "metadata": {},
     "output_type": "execute_result"
    }
   ],
   "source": [
    "artists_df.head()"
   ]
  },
  {
   "cell_type": "markdown",
   "metadata": {
    "collapsed": true
   },
   "source": [
    "## Processing Deals Details"
   ]
  },
  {
   "cell_type": "code",
   "execution_count": 10,
   "metadata": {
    "collapsed": true
   },
   "outputs": [],
   "source": [
    "def parseURL(x):\n",
    "    if isinstance(x, str):\n",
    "        x = x.replace(\"?id_op=0b8edebf-3814-4f91-9d3e-e4de26129e2b\", \"\")\n",
    "        x = x.replace(\"?id_op=6eafd9ee-d4aa-45e2-ac04-5fa15540860d\", \"\")\n",
    "        x = x.replace(\"?id_op=80d1fab3-d9d3-4463-9309-08189a42f28c\", \"\")\n",
    "        x = x.replace(\"?id_op=1bYuH\", \"\")\n",
    "        x = x.replace(\"?id_op=b8ccbbfc-ba89-4551-bc28-e2b2710ab52b\", \"\")\n",
    "        x = x.replace(\"?id_op=dad6cb11-8dc2-4f7f-a379-84c58df4d3a1\", \"\")\n",
    "        \n",
    "        x = x.replace(\"(\", \"\").replace(\",\", \"\\n\").replace(\"\\r\", \"\")\n",
    "        return x.split(\"\\n\")\n",
    "\n",
    "def getArtists(X):\n",
    "    if isinstance(X, list):\n",
    "        artists = [url.split(\"/\")[-1] for url in X]\n",
    "        artists = set(artists)\n",
    "        \n",
    "        return artists\n",
    "    \n",
    "def allArtists(x):\n",
    "    if isinstance(x, set):\n",
    "        return \", \".join(x)"
   ]
  },
  {
   "cell_type": "code",
   "execution_count": 11,
   "metadata": {
    "collapsed": true
   },
   "outputs": [],
   "source": [
    "deals['Artists_Pitched'] = deals['Artists_Pitched'].apply(parseURL)\n",
    "deals['Artists_Requested_URL'] = deals['Artists_Requested_URL'].apply(parseURL)"
   ]
  },
  {
   "cell_type": "code",
   "execution_count": 12,
   "metadata": {
    "collapsed": true
   },
   "outputs": [],
   "source": [
    "deals['Artists_Pitched'] = deals['Artists_Pitched'].apply(getArtists)\n",
    "deals['Artists_Requested_URL'] = deals['Artists_Requested_URL'].apply(getArtists)"
   ]
  },
  {
   "cell_type": "code",
   "execution_count": 13,
   "metadata": {
    "collapsed": true
   },
   "outputs": [],
   "source": [
    "deals['Artists_Pitched'] = deals['Artists_Pitched'].apply(allArtists)\n",
    "deals['Artists_Requested_URL'] = deals['Artists_Requested_URL'].apply(allArtists)"
   ]
  },
  {
   "cell_type": "code",
   "execution_count": 14,
   "metadata": {
    "collapsed": true
   },
   "outputs": [],
   "source": [
    "deals.loc[deals['Artists_Pitched'] == \"\", 'Artists_Pitched'] = None"
   ]
  },
  {
   "cell_type": "markdown",
   "metadata": {},
   "source": [
    "### 1. Removing multiple values from Category and replacing it with single value"
   ]
  },
  {
   "cell_type": "code",
   "execution_count": 15,
   "metadata": {
    "collapsed": true
   },
   "outputs": [],
   "source": [
    "# Fill the NaN in Category with -1\n",
    "deals['Category'].fillna(-1, inplace = True)"
   ]
  },
  {
   "cell_type": "code",
   "execution_count": 16,
   "metadata": {
    "collapsed": true
   },
   "outputs": [],
   "source": [
    "# Convert the Category to String\n",
    "deals['Category'] = deals['Category'].astype('str')\n",
    "\n",
    "# Split the multiple values in Category Column\n",
    "## Select the first value as the value for Category corresponding to that deal\n",
    "deals['Category'] = deals['Category'].apply(lambda x: x.split(\",\")[0])\n",
    "\n",
    "# Convert back the Category Column to INT\n",
    "deals['Category'] =  deals['Category'].astype('int64')"
   ]
  },
  {
   "cell_type": "code",
   "execution_count": 17,
   "metadata": {
    "collapsed": true
   },
   "outputs": [],
   "source": [
    "def soup(x):\n",
    "    x_1 = x['Artists_Pitched']\n",
    "    x_2 = x['Artists_Requested_URL']\n",
    "    \n",
    "    if x_1 is None:\n",
    "        return x_2\n",
    "    if x_2 is None:\n",
    "        return x_1\n",
    "    return \"{0}, {1}\".format(x_1, x_2)\n",
    "\n",
    "deals['Artists'] = deals.apply(soup, axis = 1)"
   ]
  },
  {
   "cell_type": "code",
   "execution_count": 18,
   "metadata": {
    "collapsed": true
   },
   "outputs": [],
   "source": [
    "deals['Artists'] = deals['Artists'].apply(lambda x: \"\".join(x.split(r\",\")[0]) if x != None else None)"
   ]
  },
  {
   "cell_type": "markdown",
   "metadata": {},
   "source": [
    "### 2. Merging DF with Artists DataFrame to get the missing Categories Values."
   ]
  },
  {
   "cell_type": "markdown",
   "metadata": {},
   "source": [
    "Merge the `deals` dataframe with `artists_df` dataframe on `ProfileUrl` to get missing value for categories"
   ]
  },
  {
   "cell_type": "code",
   "execution_count": 19,
   "metadata": {
    "collapsed": true
   },
   "outputs": [],
   "source": [
    "# Left Merge\n",
    "deals = deals.merge(artists_df[['CategoryName', 'ProfileUrl']], \n",
    "                    left_on = ['Artists'], right_on = ['ProfileUrl'], \n",
    "                    how = 'left')"
   ]
  },
  {
   "cell_type": "code",
   "execution_count": 20,
   "metadata": {
    "collapsed": true
   },
   "outputs": [],
   "source": [
    "# Fill the Category Column using CategoryName value\n",
    "deals.loc[deals['Category'] == -1, 'Category'] = deals['CategoryName']"
   ]
  },
  {
   "cell_type": "code",
   "execution_count": 21,
   "metadata": {
    "collapsed": true
   },
   "outputs": [],
   "source": [
    "# Drop Duplicat\n",
    "deals.drop_duplicates(subset = ['Deal_ID'], inplace = True)"
   ]
  },
  {
   "cell_type": "code",
   "execution_count": 22,
   "metadata": {
    "collapsed": true
   },
   "outputs": [],
   "source": [
    "# Drop the Extra Columns\n",
    "deals.drop(['CategoryName', 'ProfileUrl', 'Artists'], axis = 1, inplace = True)"
   ]
  },
  {
   "cell_type": "code",
   "execution_count": 23,
   "metadata": {
    "collapsed": true
   },
   "outputs": [],
   "source": [
    "# Save the DataFrame to the CSV Format\n",
    "deals.to_csv('../GTQ+PYR Deals/Data/updated-deal-details-infomation.csv')"
   ]
  },
  {
   "cell_type": "markdown",
   "metadata": {},
   "source": [
    "## EDA"
   ]
  },
  {
   "cell_type": "markdown",
   "metadata": {},
   "source": [
    "#### <b>Question 1. Checking\n",
    "    1.0 Total Number of Deals\n",
    "    1.1 Number of `Unknown Deals`\n",
    "    1.2 Number of Deals with Budget as `0`\n",
    "    1.3 Number of Deals with `Date` Missing\n",
    "    1.4 Number of Deals with `Location` Missing\n",
    "    1.5 Number of Deals with `Category` Missing\n",
    "    1.6 Number of Deals in which Artist was Pitched."
   ]
  },
  {
   "cell_type": "code",
   "execution_count": 24,
   "metadata": {},
   "outputs": [
    {
     "name": "stdout",
     "output_type": "stream",
     "text": [
      "Total Number of Deals: 14894\n",
      "\n",
      "Number of Unknown Deals: 92\n",
      "Number of Deals with 0 Budget: 247\n",
      "Number of Deals with Date Missing: 160\n",
      "Number of Deals with Location Missing: 1096\n",
      "Number of Deals with Category Missing: 476\n",
      "\n",
      "Number of Deals with Artists Pitched: 1359\n"
     ]
    }
   ],
   "source": [
    "#1.0\n",
    "print (f\"Total Number of Deals: {deals.shape[0]}\\n\")\n",
    "# 1.1\n",
    "print (f\"Number of Unknown Deals: {deals[(deals['Title'].str.contains('Unknown'))].shape[0]}\")\n",
    "# 1.2\n",
    "print (f\"Number of Deals with 0 Budget: {deals[(deals['Budget'] == 0)].shape[0]}\")\n",
    "# 1.3\n",
    "print (f\"Number of Deals with Date Missing: {deals[deals['Event_Date'].isnull() == True].shape[0]}\")\n",
    "# 1.4\n",
    "print (f\"Number of Deals with Location Missing: {deals[deals['Location'].isnull() == True].shape[0]}\")\n",
    "#1.5\n",
    "print (f\"Number of Deals with Category Missing: {deals[deals['Category'].isnull() == True].shape[0]}\\n\")\n",
    "#1.6\n",
    "print (f\"Number of Deals with Artists Pitched: {deals[deals['Artists_Pitched'].isnull() != True].shape[0]}\")"
   ]
  },
  {
   "cell_type": "markdown",
   "metadata": {},
   "source": [
    "#### Artists Pitched"
   ]
  },
  {
   "cell_type": "code",
   "execution_count": 25,
   "metadata": {
    "collapsed": true
   },
   "outputs": [],
   "source": [
    "artist_pitched = deals.Artists_Pitched.str.split(r',', expand=True).stack().unique().shape[0]\n",
    "total_artists = artists_df.shape[0]"
   ]
  },
  {
   "cell_type": "code",
   "execution_count": 26,
   "metadata": {},
   "outputs": [
    {
     "name": "stdout",
     "output_type": "stream",
     "text": [
      "Number of Artists Pitched 2652 out of 11679 Total Artists.\n",
      "Percentage of Artists Pitched: 22.707423580786028 %\n"
     ]
    }
   ],
   "source": [
    "print (f\"Number of Artists Pitched {artist_pitched} out of {total_artists} Total Artists.\")\n",
    "print (f\"Percentage of Artists Pitched: {(artist_pitched / total_artists) * 100} %\")"
   ]
  },
  {
   "cell_type": "markdown",
   "metadata": {},
   "source": [
    "#### <b>Question 2.</b>\n",
    "Total Number of `Deals` available with all the necessary information i.e `Deal_ID`, `Category`, `Event` `Type`, `Budget`, `Gathering`, `Date` and `Location`."
   ]
  },
  {
   "cell_type": "code",
   "execution_count": 27,
   "metadata": {},
   "outputs": [
    {
     "data": {
      "text/plain": [
       "13345"
      ]
     },
     "execution_count": 27,
     "metadata": {},
     "output_type": "execute_result"
    }
   ],
   "source": [
    "# Deals with all the Information\n",
    "deals[['Deal_ID', 'Title', 'Category', 'Event', 'Location', 'Budget', 'Event_Date']].dropna().shape[0]"
   ]
  },
  {
   "cell_type": "markdown",
   "metadata": {},
   "source": [
    "#### <b>Question 3: </b> \n",
    "Which `Category` have Maximum Number of Deal ?"
   ]
  },
  {
   "cell_type": "markdown",
   "metadata": {},
   "source": [
    "Category List\n",
    "\n",
    "    1: Anchor/EMCEE\n",
    "    2: Celebrity Appearance\n",
    "    3: Comedian\n",
    "    4: Dance/Troupe\n",
    "    5: DJ\n",
    "    6: Instrumentalist\n",
    "    7: Live Band\n",
    "    8: Magician\n",
    "    9: Makeup Artist\n",
    "    10: Model\n",
    "    11: Photo/Videographer\n",
    "    12: Singer\n",
    "    13: Speaker\n",
    "    14: Variety Artists"
   ]
  },
  {
   "cell_type": "code",
   "execution_count": 28,
   "metadata": {},
   "outputs": [
    {
     "data": {
      "text/plain": [
       "Category\n",
       "1.0      946\n",
       "2.0     1666\n",
       "3.0     3206\n",
       "4.0      455\n",
       "5.0      896\n",
       "6.0      290\n",
       "7.0     1744\n",
       "8.0      129\n",
       "9.0      105\n",
       "10.0     429\n",
       "11.0      99\n",
       "12.0    4189\n",
       "13.0      93\n",
       "14.0     171\n",
       "Name: Category, dtype: int64"
      ]
     },
     "execution_count": 28,
     "metadata": {},
     "output_type": "execute_result"
    }
   ],
   "source": [
    "top_categories = deals.groupby('Category')['Category'].size()\n",
    "top_categories"
   ]
  },
  {
   "cell_type": "code",
   "execution_count": 29,
   "metadata": {},
   "outputs": [
    {
     "data": {
      "text/plain": [
       "Text(0.5,1,'Deal Distribution based on Categories')"
      ]
     },
     "execution_count": 29,
     "metadata": {},
     "output_type": "execute_result"
    },
    {
     "data": {
      "image/png": "[encoded data removed]",
      "text/plain": [
       "<matplotlib.figure.Figure at 0x2e35ab3c710>"
      ]
     },
     "metadata": {},
     "output_type": "display_data"
    }
   ],
   "source": [
    "plt.bar(range(1, 15), top_categories.values, width = 1/1.5, color = \"blue\")\n",
    "plt.xlabel('Categories')\n",
    "plt.ylabel('Number of Deals')\n",
    "\n",
    "plt.title(\"Deal Distribution based on Categories\")"
   ]
  },
  {
   "cell_type": "markdown",
   "metadata": {},
   "source": [
    "`Singer` (Category 12) is at the top followed by `Comedian` (Category 3) and `Live Band` (Category 7)"
   ]
  },
  {
   "cell_type": "markdown",
   "metadata": {},
   "source": [
    "#### <b>Question 4: </b> \n",
    "Which Event have Maximum Number of Deal ?"
   ]
  },
  {
   "cell_type": "markdown",
   "metadata": {},
   "source": [
    "Event List:\n",
    "\n",
    "    1: Campus\n",
    "    2: Charity\n",
    "    3: Concert/Festival\n",
    "    4: Corporate\n",
    "    5: Exhibition\n",
    "    6: Fashion Show\n",
    "    7: Inauguration\n",
    "    8: Kids Party\n",
    "    9: Photo/Video Shoot\n",
    "    10: Private Party\n",
    "    11: Professional Hiring\n",
    "    12: Religious\n",
    "    13: Restaurant\n",
    "    14: Wedding"
   ]
  },
  {
   "cell_type": "code",
   "execution_count": 30,
   "metadata": {},
   "outputs": [
    {
     "data": {
      "text/plain": [
       "Event\n",
       "1.0     3015\n",
       "2.0      564\n",
       "3.0     1908\n",
       "4.0     1963\n",
       "5.0      114\n",
       "6.0      205\n",
       "7.0      514\n",
       "8.0      277\n",
       "9.0      395\n",
       "10.0    1905\n",
       "11.0     276\n",
       "12.0     336\n",
       "13.0     384\n",
       "14.0    2753\n",
       "Name: Event, dtype: int64"
      ]
     },
     "execution_count": 30,
     "metadata": {},
     "output_type": "execute_result"
    }
   ],
   "source": [
    "top_events = deals.groupby('Event')['Event'].size()\n",
    "top_events"
   ]
  },
  {
   "cell_type": "code",
   "execution_count": 31,
   "metadata": {},
   "outputs": [
    {
     "data": {
      "text/plain": [
       "Text(0.5,1,'Deal Distribution based on Events')"
      ]
     },
     "execution_count": 31,
     "metadata": {},
     "output_type": "execute_result"
    },
    {
     "data": {
      "image/png": "[encoded data removed]",
      "text/plain": [
       "<matplotlib.figure.Figure at 0x2e35aa5d588>"
      ]
     },
     "metadata": {},
     "output_type": "display_data"
    }
   ],
   "source": [
    "plt.bar(range(1, 15), top_events.values, width = 1/1.5, color = \"blue\")\n",
    "plt.xlabel('Events')\n",
    "plt.ylabel('Number of Deals')\n",
    "\n",
    "plt.title(\"Deal Distribution based on Events\")"
   ]
  },
  {
   "cell_type": "markdown",
   "metadata": {},
   "source": [
    "`Campus Events` are more in demand followed by `Weddings` and `Corporate Events`."
   ]
  },
  {
   "cell_type": "code",
   "execution_count": 32,
   "metadata": {},
   "outputs": [
    {
     "data": {
      "text/plain": [
       "Text(0.5,1,'Event Distribution over the Years')"
      ]
     },
     "execution_count": 32,
     "metadata": {},
     "output_type": "execute_result"
    },
    {
     "data": {
      "image/png": "[encoded data removed]",
      "text/plain": [
       "<matplotlib.figure.Figure at 0x2e35aaf1f60>"
      ]
     },
     "metadata": {},
     "output_type": "display_data"
    }
   ],
   "source": [
    "grouped = deals.groupby(['Event_Date'])['Event_Date'].size()\n",
    "\n",
    "grouped.plot()\n",
    "\n",
    "plt.xlabel('YEARS')\n",
    "plt.ylabel('Events')\n",
    "plt.title('Event Distribution over the Years')"
   ]
  },
  {
   "cell_type": "code",
   "execution_count": 33,
   "metadata": {},
   "outputs": [
    {
     "data": {
      "text/plain": [
       "Text(0.5,1,'Deals Distribution over the Years')"
      ]
     },
     "execution_count": 33,
     "metadata": {},
     "output_type": "execute_result"
    },
    {
     "data": {
      "image/png": "[encoded data removed]",
      "text/plain": [
       "<matplotlib.figure.Figure at 0x2e35a64a2b0>"
      ]
     },
     "metadata": {},
     "output_type": "display_data"
    }
   ],
   "source": [
    "grouped = deals.groupby(['Deal_Date'])['Deal_Date'].size()\n",
    "\n",
    "grouped.plot()\n",
    "\n",
    "plt.xlabel('YEARS')\n",
    "plt.ylabel('Deals')\n",
    "plt.title('Deals Distribution over the Years')"
   ]
  },
  {
   "cell_type": "markdown",
   "metadata": {},
   "source": [
    "## K-Means Clustering"
   ]
  },
  {
   "cell_type": "code",
   "execution_count": 34,
   "metadata": {
    "collapsed": true
   },
   "outputs": [],
   "source": [
    "UserInfo = pd.read_csv('../GTQ+PYR Deals/Data/PYR.csv')"
   ]
  },
  {
   "cell_type": "code",
   "execution_count": 35,
   "metadata": {
    "collapsed": true
   },
   "outputs": [],
   "source": [
    "# Select the Columns to get Clusters around\n",
    "columns = ['Category', 'Event', 'Budget', 'Gathering', 'Event_Month']\n",
    "X = UserInfo[columns].values\n",
    "\n",
    "# Normalize the Values\n",
    "X = stats.zscore(X)"
   ]
  },
  {
   "cell_type": "markdown",
   "metadata": {},
   "source": [
    "### Number of Clusters\n",
    "`GET` the number of Clusters using the Elbow Technique. "
   ]
  },
  {
   "cell_type": "code",
   "execution_count": 38,
   "metadata": {
    "collapsed": true
   },
   "outputs": [],
   "source": [
    "Nc = range(1, 40)\n",
    "\n",
    "kmeans = [KMeans(n_clusters=i) for i in Nc]\n",
    "score = [kmeans[i].fit(X).score(X) for i in range(len(kmeans))]"
   ]
  },
  {
   "cell_type": "code",
   "execution_count": 39,
   "metadata": {
    "scrolled": false
   },
   "outputs": [
    {
     "data": {
      "text/plain": [
       "Text(0.5,1,'Elbow Curve')"
      ]
     },
     "execution_count": 39,
     "metadata": {},
     "output_type": "execute_result"
    },
    {
     "data": {
      "image/png": "[encoded data removed]",
      "text/plain": [
       "<matplotlib.figure.Figure at 0x2e35a8bf898>"
      ]
     },
     "metadata": {},
     "output_type": "display_data"
    }
   ],
   "source": [
    "plt.plot(Nc,score)\n",
    "\n",
    "plt.xlabel('Number of Clusters')\n",
    "plt.ylabel('Score')\n",
    "plt.title('Elbow Curve')"
   ]
  },
  {
   "cell_type": "markdown",
   "metadata": {},
   "source": [
    "### Clustering Data"
   ]
  },
  {
   "cell_type": "code",
   "execution_count": 40,
   "metadata": {
    "collapsed": true
   },
   "outputs": [],
   "source": [
    "# Initialize KMeans Clustering Algorithm with Number of Clusters as 3\n",
    "kmeans = KMeans(n_clusters = 10, random_state = 0)\n",
    "\n",
    "# Fit the Normalized Data\n",
    "kmeans = kmeans.fit(X)"
   ]
  },
  {
   "cell_type": "code",
   "execution_count": 41,
   "metadata": {
    "collapsed": true
   },
   "outputs": [],
   "source": [
    "# Add Cluster to the Original Dataset\n",
    "UserInfo['clusters'] = kmeans.labels_"
   ]
  },
  {
   "cell_type": "code",
   "execution_count": 42,
   "metadata": {
    "collapsed": true
   },
   "outputs": [],
   "source": [
    "# Add the clusters column to the list\n",
    "columns.extend(['clusters'])"
   ]
  },
  {
   "cell_type": "code",
   "execution_count": 43,
   "metadata": {},
   "outputs": [
    {
     "name": "stdout",
     "output_type": "stream",
     "text": [
      "           Category      Event        Budget      Gathering  Event_Month\n",
      "clusters                                                                \n",
      "0         11.956522  16.434783  3.299710e+05    4120.724638     9.884058\n",
      "1         11.780488  26.073171  2.765416e+05     505.682927     3.178862\n",
      "2          4.500000  25.950000  1.353250e+05     380.708333    10.450000\n",
      "3          7.000000  22.750000  1.625000e+07    1087.500000     5.500000\n",
      "4          7.000000  17.000000  2.000000e+06  600000.000000     2.000000\n",
      "5          3.318367  16.865306  1.632653e+05    1736.869388     9.620408\n",
      "6          3.601351  16.668919  2.173819e+05    2056.807432     3.195946\n",
      "7         11.943396  16.047170  6.199151e+05    5590.433962     2.924528\n",
      "8         11.932692  26.711538  2.991154e+05     515.019231     9.701923\n",
      "9          4.406250  25.975000  1.138750e+05     550.337500     4.025000\n"
     ]
    }
   ],
   "source": [
    "# Lets analyze the clusters\n",
    "print (UserInfo[columns].groupby(['clusters']).mean())"
   ]
  },
  {
   "cell_type": "code",
   "execution_count": 45,
   "metadata": {
    "collapsed": true
   },
   "outputs": [],
   "source": [
    "def plot(X, y, data):\n",
    "    return sns.lmplot(X, y, \n",
    "                      data = data, \n",
    "                      hue = 'clusters', \n",
    "                      fit_reg = False, \n",
    "                      scatter_kws={\"marker\": \"D\", \"s\": 100}\n",
    "                     )"
   ]
  },
  {
   "cell_type": "code",
   "execution_count": 46,
   "metadata": {},
   "outputs": [
    {
     "data": {
      "text/plain": [
       "<seaborn.axisgrid.FacetGrid at 0x2e35cfc7ba8>"
      ]
     },
     "execution_count": 46,
     "metadata": {},
     "output_type": "execute_result"
    },
    {
     "data": {
      "image/png": "[encoded data removed]",
      "text/plain": [
       "<matplotlib.figure.Figure at 0x2e35cfc7c88>"
      ]
     },
     "metadata": {},
     "output_type": "display_data"
    }
   ],
   "source": [
    "plot('Category', 'Event', UserInfo)"
   ]
  },
  {
   "cell_type": "code",
   "execution_count": 47,
   "metadata": {},
   "outputs": [
    {
     "data": {
      "text/plain": [
       "<seaborn.axisgrid.FacetGrid at 0x2e35cfea390>"
      ]
     },
     "execution_count": 47,
     "metadata": {},
     "output_type": "execute_result"
    },
    {
     "data": {
      "image/png": "[encoded data removed]",
      "text/plain": [
       "<matplotlib.figure.Figure at 0x2e35cfea208>"
      ]
     },
     "metadata": {},
     "output_type": "display_data"
    }
   ],
   "source": [
    "plot('Budget', 'Gathering', UserInfo)"
   ]
  },
  {
   "cell_type": "code",
   "execution_count": 48,
   "metadata": {},
   "outputs": [
    {
     "data": {
      "text/plain": [
       "<seaborn.axisgrid.FacetGrid at 0x2e35d0969e8>"
      ]
     },
     "execution_count": 48,
     "metadata": {},
     "output_type": "execute_result"
    },
    {
     "data": {
      "image/png": "[encoded data removed]",
      "text/plain": [
       "<matplotlib.figure.Figure at 0x2e35d0961d0>"
      ]
     },
     "metadata": {},
     "output_type": "display_data"
    }
   ],
   "source": [
    "plot('Event', 'Event_Month', UserInfo)"
   ]
  },
  {
   "cell_type": "markdown",
   "metadata": {},
   "source": [
    "## Artists Pitch Count"
   ]
  },
  {
   "cell_type": "code",
   "execution_count": 49,
   "metadata": {
    "collapsed": true
   },
   "outputs": [],
   "source": [
    "# Split the Artists into multiple Columns\n",
    "x = deals.Artists_Pitched.str.split(r',', expand=True).stack().reset_index(level=1, drop=True).to_frame('Artists_Pitched')\n",
    "x = pd.get_dummies(x, columns=['Artists_Pitched']).groupby(level=0).sum()"
   ]
  },
  {
   "cell_type": "code",
   "execution_count": 50,
   "metadata": {
    "collapsed": true
   },
   "outputs": [],
   "source": [
    "# Load Pitch Count DataFrame\n",
    "pitch_count = pd.read_csv('../GTQ+PYR Deals/Data/PitchCount.csv')"
   ]
  },
  {
   "cell_type": "code",
   "execution_count": 51,
   "metadata": {},
   "outputs": [
    {
     "data": {
      "text/plain": [
       "'\\ndef getCount(col):\\n    return x[x[col] == 1][col].shape[0]\\n\\ncounts = []\\nfor i in x.columns.values:\\n    c = getCount(i)\\n    gC = (i.replace(\\'Artists_Pitched_\\', \"\").strip(), c)\\n    \\n    counts.append(gC)\\n'"
      ]
     },
     "execution_count": 51,
     "metadata": {},
     "output_type": "execute_result"
    }
   ],
   "source": [
    "# Count How many times a artists has been pitched to the User\n",
    "'''\n",
    "def getCount(col):\n",
    "    return x[x[col] == 1][col].shape[0]\n",
    "\n",
    "counts = []\n",
    "for i in x.columns.values:\n",
    "    c = getCount(i)\n",
    "    gC = (i.replace('Artists_Pitched_', \"\").strip(), c)\n",
    "    \n",
    "    counts.append(gC)\n",
    "'''"
   ]
  },
  {
   "cell_type": "code",
   "execution_count": 52,
   "metadata": {
    "collapsed": true
   },
   "outputs": [],
   "source": [
    "# Artists Pitch Count DataFrame\n",
    "# pitch_count = pd.DataFrame(counts, columns = ['Artist', 'Pitch Count'])\n",
    "# Save the DataFrame to the CSV Format.\n",
    "# pitch_count.to_csv('../GTQ+PYR Deals/Data/PitchCount.csv', index = False)"
   ]
  },
  {
   "cell_type": "code",
   "execution_count": 53,
   "metadata": {},
   "outputs": [
    {
     "data": {
      "text/html": [
       "<div>\n",
       "<style scoped>\n",
       "    .dataframe tbody tr th:only-of-type {\n",
       "        vertical-align: middle;\n",
       "    }\n",
       "\n",
       "    .dataframe tbody tr th {\n",
       "        vertical-align: top;\n",
       "    }\n",
       "\n",
       "    .dataframe thead th {\n",
       "        text-align: right;\n",
       "    }\n",
       "</style>\n",
       "<table border=\"1\" class=\"dataframe\">\n",
       "  <thead>\n",
       "    <tr style=\"text-align: right;\">\n",
       "      <th></th>\n",
       "      <th>Artist</th>\n",
       "      <th>Pitch Count</th>\n",
       "    </tr>\n",
       "  </thead>\n",
       "  <tbody>\n",
       "    <tr>\n",
       "      <th>1093</th>\n",
       "      <td>manish-tyagi</td>\n",
       "      <td>95</td>\n",
       "    </tr>\n",
       "    <tr>\n",
       "      <th>990</th>\n",
       "      <td>kishore-dayani</td>\n",
       "      <td>79</td>\n",
       "    </tr>\n",
       "    <tr>\n",
       "      <th>1793</th>\n",
       "      <td>sumit-anand</td>\n",
       "      <td>76</td>\n",
       "    </tr>\n",
       "    <tr>\n",
       "      <th>894</th>\n",
       "      <td>jeeveshu-ahluwalia</td>\n",
       "      <td>60</td>\n",
       "    </tr>\n",
       "    <tr>\n",
       "      <th>304</th>\n",
       "      <td>appurv-gupta</td>\n",
       "      <td>57</td>\n",
       "    </tr>\n",
       "  </tbody>\n",
       "</table>\n",
       "</div>"
      ],
      "text/plain": [
       "                  Artist  Pitch Count\n",
       "1093        manish-tyagi           95\n",
       "990       kishore-dayani           79\n",
       "1793         sumit-anand           76\n",
       "894   jeeveshu-ahluwalia           60\n",
       "304         appurv-gupta           57"
      ]
     },
     "execution_count": 53,
     "metadata": {},
     "output_type": "execute_result"
    }
   ],
   "source": [
    "# GET the Artists with the Maximum Pitch Count\n",
    "pitch_count.sort_values(by = ['Pitch Count'], ascending = False).head()"
   ]
  },
  {
   "cell_type": "markdown",
   "metadata": {},
   "source": [
    "## END"
   ]
  },
  {
   "cell_type": "code",
   "execution_count": null,
   "metadata": {
    "collapsed": true
   },
   "outputs": [],
   "source": []
  }
 ],
 "metadata": {
  "kernelspec": {
   "display_name": "Python 3",
   "language": "python",
   "name": "python3"
  },
  "language_info": {
   "codemirror_mode": {
    "name": "ipython",
    "version": 3
   },
   "file_extension": ".py",
   "mimetype": "text/x-python",
   "name": "python",
   "nbconvert_exporter": "python",
   "pygments_lexer": "ipython3",
   "version": "3.6.4"
  }
 },
 "nbformat": 4,
 "nbformat_minor": 2
}
